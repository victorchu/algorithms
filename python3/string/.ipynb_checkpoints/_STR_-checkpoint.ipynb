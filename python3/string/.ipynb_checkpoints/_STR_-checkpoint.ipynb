{
 "cells": [
  {
   "cell_type": "markdown",
   "id": "812c7afc-ae3b-4070-969c-e180cd663935",
   "metadata": {},
   "source": [
    "# String"
   ]
  },
  {
   "cell_type": "markdown",
   "id": "cbcf73fc-4d5c-48de-98c9-4181e607c859",
   "metadata": {},
   "source": [
    "## Easy\n",
    "\n",
    "+ [add_binary.py](add_binary.py)\n",
    "  - Given two binary strings, return their sum (also a binary string).  \n",
    "+ [first_unique_char.py](first_unique_char.py)\n",
    "  - Given a string, find the first non-repeating character in it and return it's index.\n",
    "+ [isomorphic.py](isomorphic.py)\n",
    "  - Given two strings s and t, determine if they are isomorphic.\n",
    "  - Two strings are isomorphic if the characters in s can be replaced to get t.\n",
    "+ [most_common_word.py](most_common_word.py)\n",
    "  - Find the most common word in a paragraph, excluding banned words.\n",
    "+ [reorder_logs.py](reorder_logs.py)\n",
    "  - Reorder numeric and letter log records. \\\n",
    "+ [roman_to_integer.py](roman_to_integer.py)\n",
    "  - Convert Roman numerals to integers.\n",
    "  - See Also: [integer_to_roman.py](integer_to_roman.py)\n",
    "+ [reverse_only_letters.py](reverse_only_letters.py)\n",
    "  - Given a string S, return the \"reversed\" string where all characters that are not\n",
    "    a letter stay in the same place, and all letters reverse their positions.\n",
    "+ [strstr.py](strstr.py)\n",
    "  - Find the index of a substring.\n",
    "+ [subarray_sum.py](subarray_sum.py)\n",
    "  - Find a continuous sub-array that adds to a given number.\n",
    "\n",
    "+ [validate_parentheses.py](validate_parentheses.py)\n",
    "  - Given a string containing just the characters '(', ')', '{', '}', '[' and ']',\n",
    "    determine if the input string is valid.\n",
    "\n"
   ]
  },
  {
   "cell_type": "markdown",
   "id": "40b42a9b-f97a-4b7c-aea4-2f868d414914",
   "metadata": {},
   "source": [
    "## Medium\n",
    "\n",
    "+ [compare_version_numbers.py](compare_version_numbers.py)\n",
    "  - Compare two version numbers version1 and version2.\n",
    "\n",
    "+ [eval_reverse_polish_notation.py](eval_reverse_polish_notation.py)\n",
    "  - Evaluate the value of an arithemetric expression in Reverse Polish Notation.\n",
    "+ [group_anagrams.py](group_anagrams.py)\n",
    "  - Given an array of strings, group anagrams together.\n",
    "+ [integer_to_english_words.py](integer_to_english_words.py)\n",
    "  - Convert a non-negative integer to its english words representation.\n",
    "  - E.g. 12345 will be converted to \"Twelve Thousand Three Hundred Forty Five\"\n",
    "  - This problem is tedious but not very hard.\n",
    "+ [integer_to_roman.py](integer_to_roman.py)\n",
    "  - Given an integer, convert it to a roman numeral.\n",
    "  - See Also: [roman_to_integer.py](roman_to_integer.py)\n",
    "+ [Longest Substring without Repeating Characters](longest_substring_without_repeating_characters.py) *\n",
    "  - Given a string, find the length of the longest substring without repeating characters.\n",
    "+ [string_to_integer.py](string_to_integer.py)\n",
    "  - Convert a string to an integer.\n",
    "+ [valid_ip.py](valid_ip.py)\n",
    "  - Check whether a string is a valid IPv4 address or IPv6 address or neither.\n",
    "+ [valid_palindrome.py](valid_palindrome.py)\n",
    "  - Given a string, determine if it is a palindrome, considering only\n",
    "    alphanumeric characters and ignoring cases.\n",
    "  - Note: simple string & array operation.\n",
    "+ [word_reverse.py](word_reverse.py)\n",
    "  - Given an input string, reverse the string word by word.\n"
   ]
  },
  {
   "cell_type": "markdown",
   "id": "bf98d28a-bab9-4d58-a420-d445c7cd02cd",
   "metadata": {},
   "source": [
    "## Hard\n",
    "\n",
    "+ [Minimum Window Substring](minimum_window_substring.ipynb)\n",
    "  - Given a long string S and a short string T, find the minimum window (substring) in S which will contain\n",
    "    all the characters in T.\n",
    "  - Categories: Sliding Window\n",
    "+ [Palindromic Partitions](palindromic_partitions.ipynb) *\n",
    "  - Partition a string such that every substring of the partition is a palindrome.\n",
    "  - A palindrome is a word, number, phrase, or other sequence of characters which\n",
    "    reads the same backward as forward, such as madam, racecar.\n",
    "  - Categories: Recurssion (expansion or merging).\n",
    "\n"
   ]
  },
  {
   "cell_type": "code",
   "execution_count": null,
   "id": "7b94c832-d230-4000-8d66-49b585297507",
   "metadata": {},
   "outputs": [],
   "source": []
  }
 ],
 "metadata": {
  "kernelspec": {
   "display_name": "Python 3 (ipykernel)",
   "language": "python",
   "name": "python3"
  },
  "language_info": {
   "codemirror_mode": {
    "name": "ipython",
    "version": 3
   },
   "file_extension": ".py",
   "mimetype": "text/x-python",
   "name": "python",
   "nbconvert_exporter": "python",
   "pygments_lexer": "ipython3",
   "version": "3.10.6"
  }
 },
 "nbformat": 4,
 "nbformat_minor": 5
}
