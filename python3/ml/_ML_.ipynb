{
 "cells": [
  {
   "cell_type": "markdown",
   "id": "b6375935-e565-4227-9458-328fc7554ddb",
   "metadata": {},
   "source": [
    "# ML Coding Problems\n",
    "\n",
    "ML coding module may or may not exist in particular companies interviews.\n",
    "The good news is that, there are a limited number of ML algorithms that candidates \n",
    "are expected to be able to code. The most common ones include:\n",
    "\n",
    "ML Models\n",
    "- k-means clustering\n",
    "- k-nearest neighbors (classification)\n",
    "- Decision trees (classification)\n",
    "- Perceptron, MLP (regression/classification)\n",
    "- Linear regression\n",
    "- Logistic regression  (classification)\n",
    "- SVM  (classification)\n",
    "\n",
    "Sampling\n",
    "- stratified sampling\n",
    "- uniform sampling\n",
    "- reservoir sampling\n",
    "- sampling multinomial distribution\n",
    "- random generator\n",
    "\n",
    "NLP algorithms (if that's your area of work)\n",
    "- bigrams\n",
    "- TF-IDF\n",
    "\n",
    "Ref:\n",
    "- https://github.com/alirezadir/machine-learning-interview-enlightener/blob/main/ml-coding.md\n"
   ]
  },
  {
   "cell_type": "markdown",
   "id": "7af72832-cfb9-4e08-b294-d9ce0dec8057",
   "metadata": {},
   "source": [
    "# ML Mldels"
   ]
  },
  {
   "cell_type": "markdown",
   "id": "1c92475a-4ddd-40e2-8ecd-db4f3f9295e5",
   "metadata": {},
   "source": [
    "## K-means Clustering\n",
    "\n",
    "Ref: https://realpython.com/k-means-clustering-python/"
   ]
  },
  {
   "cell_type": "code",
   "execution_count": null,
   "id": "d61ce34d-5a66-41aa-bd7b-eafbbc1a1e56",
   "metadata": {},
   "outputs": [],
   "source": []
  },
  {
   "cell_type": "code",
   "execution_count": null,
   "id": "631b99e4-126d-4edb-8ba3-170552f42464",
   "metadata": {},
   "outputs": [],
   "source": []
  },
  {
   "cell_type": "markdown",
   "id": "c2a4d651-e81d-44f4-8d44-9b4caf1d754f",
   "metadata": {},
   "source": [
    "# Sampling"
   ]
  },
  {
   "cell_type": "code",
   "execution_count": null,
   "id": "ab5644d1-ec92-4901-ae3a-c7e4f6af1c23",
   "metadata": {},
   "outputs": [],
   "source": []
  }
 ],
 "metadata": {
  "kernelspec": {
   "display_name": "Python 3 (ipykernel)",
   "language": "python",
   "name": "python3"
  },
  "language_info": {
   "codemirror_mode": {
    "name": "ipython",
    "version": 3
   },
   "file_extension": ".py",
   "mimetype": "text/x-python",
   "name": "python",
   "nbconvert_exporter": "python",
   "pygments_lexer": "ipython3",
   "version": "3.10.4"
  }
 },
 "nbformat": 4,
 "nbformat_minor": 5
}
