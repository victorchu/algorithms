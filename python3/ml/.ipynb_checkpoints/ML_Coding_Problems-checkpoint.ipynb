{
 "cells": [
  {
   "cell_type": "markdown",
   "source": [
    "# ML Coding Problems \n",
    "- Author: Alireza Dirafzoon\n",
    "- Work in progress; Contributions are welcome :) "
   ],
   "metadata": {}
  },
  {
   "cell_type": "code",
   "execution_count": 1,
   "source": [
    "import numpy as np\n",
    "import random, collections\n",
    "\n",
    "from matplotlib import pyplot as plt \n",
    "%matplotlib inline "
   ],
   "outputs": [],
   "metadata": {}
  },
  {
   "cell_type": "markdown",
   "source": [
    "## Kmeans Clustering"
   ],
   "metadata": {}
  },
  {
   "cell_type": "code",
   "execution_count": 10,
   "source": [
    "def _cluster(X, mus):\n",
    "    clusters = collections.defaultdict(list)\n",
    "    for x in X:\n",
    "        dists = [np.linalg.norm(x-mu) for mu in mus]\n",
    "        min_idx = dists.index(min(dists))\n",
    "        clusters[min_idx].append(x)\n",
    "    return clusters\n",
    "        \n",
    "def kmeans(X, k):\n",
    "    mu = X[np.random.choice(X.shape[0], k, False)]\n",
    "    pre_mu = mu + 2\n",
    "    \n",
    "    it  = 0 \n",
    "    while it < 10 and not has_converged(mu, pre_mu):\n",
    "        pre_mu = mu \n",
    "        clusters = _cluster(X, mu)\n",
    "        mu = calc_centers(clusters)\n",
    "        it += 1 \n",
    "    return (mu, clusters)\n",
    "    \n",
    "def calc_centers(mus, clusters):\n",
    "    mus = []\n",
    "    for _ , points in clusters.items():\n",
    "        mus.append(np.mean(points, axis=0))\n",
    "    return mus\n",
    "\n",
    "def has_converged(mus, pre_mus):\n",
    "    for x, y in zip(mus, pre_mus):\n",
    "        if (x == y).all():\n",
    "            return True\n",
    "    else:\n",
    "        return False\n",
    "\n",
    "def kmeans_fit(X, k):\n",
    "    # Initialize to K random centers\n",
    "    mus = X[np.random.choice(X.shape[0], k, False)]\n",
    "    pre_mus = mus + 2\n",
    "    max_it, it = 10, 1 \n",
    "\n",
    "    while it < max_it and not has_converged(mus, pre_mus):\n",
    "        pre_mus  = mus\n",
    "        # Assign all points in X to clusters\n",
    "        clusters = _cluster(X, mus)\n",
    "        # Reevaluate centers\n",
    "        mus = calc_centers(mus, clusters)\n",
    "        it += 1 \n",
    "        \n",
    "    return(mus, clusters)\n",
    "\n",
    "def kmeans_predict(mus, x):\n",
    "    # find mean with smallest dist from X\n",
    "    # if two mus are equidistance from X, returns the first one it checked\n",
    "    min_dist = np.Inf\n",
    "    best_mu = np.Inf\n",
    "    for mu in mus:\n",
    "        dist = np.linalg.norm(x-mu)\n",
    "        if dist < min_dist:\n",
    "            min_dist = dist\n",
    "            best_mu = mu\n",
    "    return best_mu\n",
    "\n",
    "x1 = np.random.randn(5,2) + 5\n",
    "x2 = np.random.randn(5,2) - 5\n",
    "X = np.concatenate([x1,x2], axis=0)\n",
    "k = 2\n",
    "mus, clusters = kmeans_fit(X, k)\n",
    "print(mus, '\\n')\n",
    "print(clusters)\n",
    "kmeans_predict(mus, np.array([6.02, 6.656]))"
   ],
   "outputs": [
    {
     "output_type": "stream",
     "name": "stdout",
     "text": [
      "[array([4.9684126 , 5.60673886]), array([-5.06635314, -5.31132069])] \n",
      "\n",
      "defaultdict(<class 'list'>, {0: [array([3.53176996, 5.61749067]), array([5.07482916, 5.4629806 ]), array([4.31239042, 7.92297142]), array([5.18689273, 4.04056046]), array([6.73618071, 4.98969118])], 1: [array([-5.36182754, -3.82619264]), array([-5.50239665, -5.05129015]), array([-4.64087855, -6.30797382]), array([-4.8296328 , -5.63932111]), array([-4.99703017, -5.73182571])]})\n"
     ]
    },
    {
     "output_type": "execute_result",
     "data": {
      "text/plain": [
       "array([4.9684126 , 5.60673886])"
      ]
     },
     "metadata": {},
     "execution_count": 10
    }
   ],
   "metadata": {}
  },
  {
   "cell_type": "markdown",
   "source": [
    "Follow ups: \n",
    "- computattional complexity: O(it * k*n*d)\n",
    "- improve space: use index instead of copy \n",
    "- improve time: \n",
    "    - dim reduction \n",
    "    - subsample (cons?)\n",
    "- mini-batch\n",
    "- k-median \n",
    "https://mmuratarat.github.io/2019-07-23/kmeans_from_scratch"
   ],
   "metadata": {}
  },
  {
   "cell_type": "markdown",
   "source": [
    "## Linear Regression "
   ],
   "metadata": {}
  },
  {
   "cell_type": "code",
   "execution_count": 3,
   "source": [
    "# https://en.wikipedia.org/wiki/Simple_linear_regression"
   ],
   "outputs": [],
   "metadata": {}
  },
  {
   "cell_type": "code",
   "execution_count": 9,
   "source": [
    "class LinearRegressor: \n",
    "    def __init__(self):\n",
    "        self.m = 0 \n",
    "        self.b = 0 \n",
    "\n",
    "    def _mean(self,X):\n",
    "        return np.mean(X)\n",
    "    def SS(self, X, Y):\n",
    "        return sum((X-Y)**2)\n",
    "    \n",
    "    def fit(self, X, Y):\n",
    "#         self.m = (np.mean(X) * np.mean(Y) - np.mean(X*Y)) / (np.mean(X)**2 - np.mean(X**2))\n",
    "        self.m = sum((X - np.mean(X))*(Y - np.mean(Y))) / sum((X - np.mean(X))**2)\n",
    "        self.b = np.mean(Y) - self.m * np.mean(X) \n",
    "        \n",
    "    def coef(self, Y, Y_hat):\n",
    "        return 1 - self.SS(Y,Y_hat) / self.SS(Y, np.mean(Y))\n",
    "        \n",
    "    def predict(self,X):\n",
    "        return self.m * X + self.b \n",
    "    \n",
    "X = np.linspace(0,10,10)\n",
    "m, b  = 3, -2\n",
    "Y = m * X + b + 0.1 * np.random.randn(X.shape[0])\n",
    "\n",
    "lr = LinearRegressor()\n",
    "lr.fit(X,Y)\n",
    "Y_hat = lr.predict(X)\n",
    "R2 = lr.coef(Y,Y_hat)\n",
    "\n",
    "print(lr.m, lr.b)\n",
    "print(R2)"
   ],
   "outputs": [
    {
     "output_type": "stream",
     "name": "stdout",
     "text": [
      "2.9998703130892173 -1.9873208939401277\n",
      "0.9999577341447001\n"
     ]
    }
   ],
   "metadata": {}
  },
  {
   "cell_type": "markdown",
   "source": [
    "## Logistic Regression "
   ],
   "metadata": {}
  },
  {
   "cell_type": "code",
   "execution_count": 10,
   "source": [
    "x1 = np.random.randn(5,2) + 5\n",
    "x2 = np.random.randn(5,2) - 5\n",
    "X = np.concatenate([x1,x2], axis=0)\n",
    "y = np.concatenate([np.ones(5),-np.ones(5)], axis=0).astype(np.int16)\n",
    "\n",
    "\n",
    "def sigmoid(z):\n",
    "    return 1.0 / (1 + np.exp(-z))\n",
    "\n",
    "def cost_fcn(x,theta,y):\n",
    "    h = sigmoid(np.dot(x,theta))\n",
    "    J = (1.0/m) * np.sum( -y * np.log(h) - (1.0 - y) * np.log(1.0 - h))\n",
    "    return J \n",
    "\n",
    "def gradients(x, theta, y):\n",
    "    h = sigmoid(np.dot(x,theta))\n",
    "    return (1.0 /m) * np.dot(x.T, (h-y))\n",
    "\n",
    "def logistic_regression(X,y):\n",
    "    max_it = 10\n",
    "    alpha = 0.1\n",
    "    cost = []\n",
    "    theta = np.random.rand(X.shape[1])\n",
    "    for it in range(max_it): \n",
    "        cost.append(cost_fcn(X,theta,y))\n",
    "        grads = gradients(X,theta, y)\n",
    "        theta = theta - alpha * grads\n",
    "    pred = np.dot(X,theta)\n",
    "    pred[pred >= 0.5] = 1\n",
    "    pred[pred < 0.5] = 0\n",
    "    print(pred)\n",
    "    \n",
    "    \n",
    "x1 = np.random.randn(5,2) + 5\n",
    "x2 = np.random.randn(5,2) - 5\n",
    "X = np.concatenate([x1,x2], axis=0)    \n",
    "y  = np.concatenate([np.ones(5), -np.zeros(5)], axis=0)   \n",
    "logistic_regression(X,y)"
   ],
   "outputs": [
    {
     "output_type": "stream",
     "name": "stdout",
     "text": [
      "[1. 1. 1. 1. 1. 0. 0. 0. 0. 0.]\n"
     ]
    }
   ],
   "metadata": {}
  },
  {
   "cell_type": "markdown",
   "source": [
    "## Decision Trees "
   ],
   "metadata": {}
  },
  {
   "cell_type": "code",
   "execution_count": 11,
   "source": [
    "# https://github.com/random-forests/tutorials/blob/master/decision_tree.py"
   ],
   "outputs": [],
   "metadata": {}
  },
  {
   "cell_type": "markdown",
   "source": [
    "## KNN "
   ],
   "metadata": {}
  },
  {
   "cell_type": "code",
   "execution_count": 12,
   "source": [
    "# https://github.com/madhug-nadig/Machine-Learning-Algorithms-from-Scratch/blob/master/K%20Nearest%20Neighbours.py"
   ],
   "outputs": [],
   "metadata": {}
  },
  {
   "cell_type": "markdown",
   "source": [
    "## FF NN "
   ],
   "metadata": {}
  },
  {
   "cell_type": "code",
   "execution_count": 13,
   "source": [
    "# https://github.com/alirezadir/deep-learning/blob/master/first-neural-network/my_answers.py"
   ],
   "outputs": [],
   "metadata": {}
  },
  {
   "cell_type": "markdown",
   "source": [
    "## SVM "
   ],
   "metadata": {}
  },
  {
   "cell_type": "code",
   "execution_count": 14,
   "source": [
    "# https://towardsdatascience.com/support-vector-machine-introduction-to-machine-learning-algorithms-934a444fca47"
   ],
   "outputs": [],
   "metadata": {}
  },
  {
   "cell_type": "markdown",
   "source": [
    "## Sampling multinomial distribution "
   ],
   "metadata": {}
  },
  {
   "cell_type": "markdown",
   "source": [
    "## Stratified sampling"
   ],
   "metadata": {}
  },
  {
   "cell_type": "code",
   "execution_count": 16,
   "source": [
    "#https://towardsdatascience.com/the-5-sampling-algorithms-every-data-scientist-need-to-know-43c7bc11d17c"
   ],
   "outputs": [],
   "metadata": {}
  },
  {
   "cell_type": "markdown",
   "source": [
    "## Random int in range "
   ],
   "metadata": {}
  },
  {
   "cell_type": "code",
   "execution_count": 17,
   "source": [
    "# https://leetcode.com/discuss/interview-question/125347/generate-uniform-random-integer\n",
    "# https://leetcode.com/articles/implement-rand10-using-rand7/"
   ],
   "outputs": [],
   "metadata": {}
  },
  {
   "cell_type": "markdown",
   "source": [
    "## Triangle closing \n"
   ],
   "metadata": {}
  },
  {
   "cell_type": "markdown",
   "source": [
    "## Meeting point + follow ups"
   ],
   "metadata": {}
  },
  {
   "cell_type": "code",
   "execution_count": null,
   "source": [],
   "outputs": [],
   "metadata": {}
  }
 ],
 "metadata": {
  "kernelspec": {
   "display_name": "Python 3",
   "language": "python",
   "name": "python3"
  },
  "language_info": {
   "codemirror_mode": {
    "name": "ipython",
    "version": 3
   },
   "file_extension": ".py",
   "mimetype": "text/x-python",
   "name": "python",
   "nbconvert_exporter": "python",
   "pygments_lexer": "ipython3",
   "version": "3.7.3"
  }
 },
 "nbformat": 4,
 "nbformat_minor": 2
}