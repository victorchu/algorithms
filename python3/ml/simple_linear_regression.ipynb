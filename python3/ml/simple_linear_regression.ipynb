{
 "cells": [
  {
   "cell_type": "markdown",
   "metadata": {},
   "source": [
    "## Linear regression python one dimensional data"
   ]
  },
  {
   "cell_type": "markdown",
   "metadata": {},
   "source": [
    "Linear Regression with two variables in one dimensional data\n",
    "\n",
    " \n",
    " \n",
    " $$ F(x)= w_0 \\times x + w_1 $$\n",
    " $$ C=|| F(x) - y ||_2^2 $$"
   ]
  },
  {
   "cell_type": "code",
   "execution_count": 1,
   "metadata": {},
   "outputs": [],
   "source": [
    "import numpy as np\n",
    "import random"
   ]
  },
  {
   "cell_type": "code",
   "execution_count": 7,
   "metadata": {},
   "outputs": [],
   "source": [
    "n=10\n",
    "x=np.arange(0,10,0.1)\n",
    "y=3*x+2\n",
    "max_itr=1000\n",
    "alpha=0.0001\n",
    "w=np.random.random(2)"
   ]
  },
  {
   "cell_type": "code",
   "execution_count": 8,
   "metadata": {},
   "outputs": [],
   "source": [
    "# F(x)= w[0]*x + w[1]\n",
    "def F(x, w):\n",
    "    return x*w[0]+w[1]\n",
    "\n",
    "def cost(y_est, y):\n",
    "    E=y_est-y\n",
    "    return E, np.linalg.norm(E,2)\n",
    "\n",
    "def gradient(E,x):\n",
    "    return np.array([2* np.matmul(E.T,x), 2*np.sum(E)])"
   ]
  },
  {
   "cell_type": "code",
   "execution_count": 11,
   "metadata": {},
   "outputs": [],
   "source": [
    "def fit(w, x, y, alpha, max_itr):\n",
    "    for i in range(max_itr):\n",
    "        if i%100==0:\n",
    "            print(w)\n",
    "        y_est=F(x,w)\n",
    "        E, c= cost(y_est, y)\n",
    "        wg=gradient(E,x)\n",
    "        w=w - alpha * wg\n",
    "        \n",
    "    return w"
   ]
  },
  {
   "cell_type": "code",
   "execution_count": 12,
   "metadata": {},
   "outputs": [
    {
     "name": "stdout",
     "output_type": "stream",
     "text": [
      "[3.00085    1.99440426]\n",
      "[3.00051689 1.99659721]\n",
      "[3.00031432 1.99793075]\n",
      "[3.00019114 1.99874168]\n",
      "[3.00011623 1.99923481]\n",
      "[3.00007068 1.99953469]\n",
      "[3.00004298 1.99971704]\n",
      "[3.00002614 1.99982793]\n",
      "[3.00001589 1.99989537]\n",
      "[3.00000967 1.99993637]\n"
     ]
    }
   ],
   "source": [
    "w = fit(w, x, y, alpha, max_itr)"
   ]
  },
  {
   "cell_type": "code",
   "execution_count": 13,
   "metadata": {},
   "outputs": [
    {
     "data": {
      "text/plain": [
       "array([3.00000588, 1.99996131])"
      ]
     },
     "execution_count": 13,
     "metadata": {},
     "output_type": "execute_result"
    }
   ],
   "source": [
    "w"
   ]
  },
  {
   "cell_type": "code",
   "execution_count": null,
   "metadata": {},
   "outputs": [],
   "source": []
  }
 ],
 "metadata": {
  "kernelspec": {
   "display_name": "Python 3",
   "language": "python",
   "name": "python3"
  },
  "language_info": {
   "codemirror_mode": {
    "name": "ipython",
    "version": 3
   },
   "file_extension": ".py",
   "mimetype": "text/x-python",
   "name": "python",
   "nbconvert_exporter": "python",
   "pygments_lexer": "ipython3",
   "version": "3.5.6"
  }
 },
 "nbformat": 4,
 "nbformat_minor": 4
}
