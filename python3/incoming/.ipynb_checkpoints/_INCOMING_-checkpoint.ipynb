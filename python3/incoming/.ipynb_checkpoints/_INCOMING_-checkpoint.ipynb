{
 "cells": [
  {
   "cell_type": "markdown",
   "id": "192ef72b-6776-42da-8c49-385c77a5521b",
   "metadata": {},
   "source": [
    "# Incoming\n",
    "\n",
    "New problems that have not assigned to a category yet.\n",
    "\n",
    "Easy\n",
    "\n",
    "\n",
    "Medium\n",
    "\n",
    "\n",
    "Hard\n"
   ]
  },
  {
   "cell_type": "markdown",
   "id": "6d2dfe53-3ea1-471a-8449-d23aa757db8a",
   "metadata": {},
   "source": [
    "# Easy"
   ]
  },
  {
   "cell_type": "markdown",
   "id": "70baa76c-5729-4daf-aa91-e76bc349e024",
   "metadata": {},
   "source": [
    "## Binary Gap\n",
    "\n",
    "Find longest sequence of zeros in binary representation of an integer.\n",
    "\n",
    "A binary gap within a positive integer N is any maximal sequence of consecutive zeros that is surrounded by ones at both ends in the binary representation of N.\n",
    "\n",
    "For example, number 9 has binary representation 1001 and contains a binary gap of length 2. The number 529 has binary representation 1000010001 and contains two binary gaps: one of length 4 and one of length 3. The number 20 has binary representation 10100 and contains one binary gap of length 1. The number 15 has binary representation 1111 and has no binary gaps. The number 32 has binary representation 100000 and has no binary gaps.\n",
    "\n",
    "Write a function:\n",
    "\n",
    "def solution(N)\n",
    "\n",
    "that, given a positive integer N, returns the length of its longest binary gap. The function should return 0 if N doesn't contain a binary gap.\n",
    "\n",
    "For example, given N = 1041 the function should return 5, because N has binary representation 10000010001 and so its longest binary gap is of length 5. Given N = 32 the function should return 0, because N has binary representation '100000' and thus no binary gaps.\n",
    "\n",
    "Write an efficient algorithm for the following assumptions:\n",
    "\n",
    "N is an integer within the range [1..2,147,483,647]."
   ]
  },
  {
   "cell_type": "code",
   "execution_count": 3,
   "id": "043ff73f-e6ce-4a68-9e14-fd401ffc7044",
   "metadata": {},
   "outputs": [
    {
     "name": "stdout",
     "output_type": "stream",
     "text": [
      "# Input = 9 (ans=2)\n",
      "  Output = 2\n",
      "# Input = 32 (ans=0)\n",
      "  Output = 0\n",
      "# Input = 529 (ans=4)\n",
      "  Output = 4\n",
      "# Input = 1041 (ans=5)\n",
      "  Output = 5\n"
     ]
    }
   ],
   "source": [
    "from typing import List\n",
    "\n",
    "class Solution:\n",
    "    def binary_gap(self, N: int) -> int:\n",
    "        \"\"\"binary operations\"\"\"\n",
    "        curr_gap = max_gap = 0\n",
    "        has_one = False\n",
    "        while N:\n",
    "            b = N & 1\n",
    "            N >>= 1\n",
    "            if b == 1:\n",
    "                if has_one:\n",
    "                    if curr_gap > 0:\n",
    "                        max_gap = max(curr_gap, max_gap)\n",
    "                        curr_gap = 0\n",
    "                else:\n",
    "                    has_one = True\n",
    "            elif has_one:\n",
    "                curr_gap += 1\n",
    "        return max_gap\n",
    "        \n",
    "\n",
    "def main():\n",
    "    \"\"\"Main function\"\"\"\n",
    "    test_data = [\n",
    "        [9, 2],\n",
    "        [32, 0],\n",
    "        [529, 4],\n",
    "        [1041, 5],\n",
    "    ]\n",
    "    ob1 = Solution()\n",
    "    for N, ans in test_data:\n",
    "        print(f\"# Input = {N} (ans={ans})\")\n",
    "        print(f\"  Output = {ob1.binary_gap(N)}\")\n",
    "        \n",
    "main()"
   ]
  },
  {
   "cell_type": "code",
   "execution_count": null,
   "id": "37eb9ddc-7f7c-4416-b8fc-dc8860125363",
   "metadata": {},
   "outputs": [],
   "source": []
  },
  {
   "cell_type": "code",
   "execution_count": null,
   "id": "b9a8cde6-dd7b-4162-a428-648259bca0a3",
   "metadata": {},
   "outputs": [],
   "source": []
  },
  {
   "cell_type": "code",
   "execution_count": null,
   "id": "fe13f8bf-3d64-4ff3-b5b8-2e8a97edf76e",
   "metadata": {},
   "outputs": [],
   "source": []
  },
  {
   "cell_type": "markdown",
   "id": "db6cecc3-b7c5-4ab4-b3f5-0b07f18f0230",
   "metadata": {},
   "source": [
    "# Medium"
   ]
  },
  {
   "cell_type": "markdown",
   "id": "7f3f66eb-bc5d-4fde-811a-ba3224f861ad",
   "metadata": {},
   "source": []
  },
  {
   "cell_type": "code",
   "execution_count": null,
   "id": "52a56927-10a1-4129-85dc-3c8aa9606b72",
   "metadata": {},
   "outputs": [],
   "source": []
  },
  {
   "cell_type": "markdown",
   "id": "a2abf310-2597-4b53-abb5-df0fe205d53e",
   "metadata": {},
   "source": [
    "# Hard"
   ]
  },
  {
   "cell_type": "code",
   "execution_count": null,
   "id": "68b41e23-1719-4164-8c59-64db0976948d",
   "metadata": {},
   "outputs": [],
   "source": []
  },
  {
   "cell_type": "code",
   "execution_count": null,
   "id": "8f53d533-a4aa-4fd8-a9ad-b4f10d8a0926",
   "metadata": {},
   "outputs": [],
   "source": []
  },
  {
   "cell_type": "markdown",
   "id": "3daac321-bc29-4260-a053-38c40685f3dc",
   "metadata": {},
   "source": [
    "# Challenges"
   ]
  },
  {
   "cell_type": "markdown",
   "id": "d49b23d3-ce82-446f-91db-25d7c6e861a0",
   "metadata": {},
   "source": [
    "## Odd Network (Oplus)\n",
    "\n",
    "You analyze the performance of a computer network. The network comprises nodes connected by peer-to-peer links. There are N links and N + 1 nodes. All pairs of nodes are (directly or indirectly) connected by links, and links don't form cycles. In other words, the network has a tree topology.\n",
    "\n",
    "Your analysis shows that communication between two nodes performs much better if the number of links on the (shortest) route between the nodes is odd. Of course, the communication is fastest when the two nodes are connected by a direct link. But, amazingly, if the nodes communicate via 3, 5, 7, etc. links, communication is much faster than if the number of links to pass is even.\n",
    "\n",
    "Now you wonder how this influences the overall network performance. There are N * (N + 1) / 2 different pairs of nodes. You need to compute how many of them are pairs of nodes connected via an odd number of links.\n",
    "\n",
    "Nodes are numbered from 0 to N. Links are described by two arrays of integers, A and B, each containing N integers. For each 0 ≤ I < N, there is a link between nodes A[I] and B[I].\n",
    "\n",
    "Write a function:\n",
    "\n",
    "def solution(A, B)\n",
    "\n",
    "that, given two arrays, A and B, consisting of N integers and describing the links, computes the number of pairs of nodes X and Y, such that 0 ≤ X < Y ≤ N, and X and Y are connected via an odd number of links.\n",
    "\n",
    "For example, given N = 6 and the following arrays:\n",
    "\n",
    "```\n",
    "  A[0] = 0    B[0] = 3\n",
    "  A[1] = 3    B[1] = 1\n",
    "  A[2] = 4    B[2] = 3\n",
    "  A[3] = 2    B[3] = 3\n",
    "  A[4] = 6    B[4] = 3\n",
    "  A[5] = 3    B[5] = 5\n",
    "```\n",
    "\n",
    "the function should return 6, since:\n",
    "\n",
    "there are six pairs of nodes connected by direct links, and\n",
    "all other pairs of nodes are connected via two links.\n",
    "Given N = 5 and the following arrays:\n",
    "\n",
    "```\n",
    "  A[0] = 0    B[0] = 1\n",
    "  A[1] = 4    B[1] = 3\n",
    "  A[2] = 2    B[2] = 1\n",
    "  A[3] = 2    B[3] = 3\n",
    "  A[4] = 4    B[4] = 5\n",
    "```\n",
    "\n",
    "the function should return 9, since:\n",
    "\n",
    "there are five pairs of nodes connected by direct links,\n",
    "there are three pairs of nodes connected via three links, and\n",
    "there is one pair of nodes connected via five links.\n",
    "Given N = 7 and the following arrays:\n",
    "\n",
    "```\n",
    "  A[0] = 0    B[0] = 3\n",
    "  A[1] = 4    B[1] = 5\n",
    "  A[2] = 4    B[2] = 1\n",
    "  A[3] = 2    B[3] = 3\n",
    "  A[4] = 7    B[4] = 4\n",
    "  A[5] = 6    B[5] = 3\n",
    "  A[6] = 3    B[6] = 4\n",
    "```\n",
    "\n",
    "the function should return 16, since:\n",
    "\n",
    "there are seven pairs of nodes connected by direct links, and\n",
    "there are nine pairs of nodes connected via three links.\n",
    "Write an efficient algorithm for the following assumptions:\n",
    "\n",
    "N is an integer within the range [0..90,000];\n",
    "each element of arrays A and B is an integer within the range [0..N];\n",
    "the network has a tree topology;\n",
    "any pair of nodes is connected via no more than 1000 links.\n",
    "\n",
    "Ref:\n",
    "- https://app.codility.com/cert/view/cert92A85Y-4VM22MZ3A3EC3YE9/details/\n"
   ]
  },
  {
   "cell_type": "code",
   "execution_count": 30,
   "id": "c2f17d8c-37e4-4668-acc9-399bf214ebf0",
   "metadata": {},
   "outputs": [
    {
     "name": "stdout",
     "output_type": "stream",
     "text": [
      "# Input: A=[0, 3, 4, 2, 6, 3], B=[3, 1, 3, 3, 3, 5] (ans=6)\n",
      "  Output = 6\n",
      "# Input: A=[0, 4, 2, 2, 4], B=[1, 3, 1, 3, 5] (ans=9)\n",
      "  Output = 9\n",
      "# Input: A=[0, 4, 4, 2, 7, 6, 3], B=[3, 5, 1, 3, 4, 3, 4] (ans=16)\n",
      "  Output = 16\n"
     ]
    }
   ],
   "source": [
    "from typing import List\n",
    "from collections import defaultdict\n",
    "\n",
    "class Solution:\n",
    "    def solution_v1(self, A: List[int], B: List[int]) -> int:\n",
    "        \"\"\"Not efficient, O(N^3).\n",
    "        Should use DP concept to reduce complexity.\n",
    "        \"\"\"        \n",
    "    \n",
    "        # Build the network: {node: [node]}\n",
    "        network = defaultdict(set)\n",
    "        for a, b in zip(A, B):\n",
    "            network[a].add(b)\n",
    "            network[b].add(a)\n",
    "            \n",
    "        # Use the breath-first method to explore the network\n",
    "        # Use the queue to list the nodes that need to be processed next.\n",
    "        # Each element is (start_node, current_node).\n",
    "        queue = [(k,k) for k in network.keys()] \n",
    "\n",
    "        # Use a dictionary to track all of the links that have been processed.\n",
    "        # (n1, n2) and (n2, n1) are considered different.\n",
    "        seen = dict()\n",
    "        num_links = 0\n",
    "        while queue:\n",
    "            next_queue = []\n",
    "            num_links += 1\n",
    "            for n_start, n_curr in queue:\n",
    "                # Find all nodes that are connected to the \"current\" node.\n",
    "                connected_nodes = network[n_curr]\n",
    "                for n_next in connected_nodes:\n",
    "                    node_pair = (n_start, n_next)\n",
    "                    if node_pair not in seen:\n",
    "                        seen[node_pair] = num_links\n",
    "                        next_queue.append([n_start, n_next])\n",
    "            queue = next_queue\n",
    "\n",
    "        # From all of the identified links, find out those with odd number of links\n",
    "        odd_pairs = dict()\n",
    "        for (n1,n2), v in seen.items():\n",
    "            if v %2 == 1:\n",
    "                # Make sure n1 < n2, to avoid duplications.\n",
    "                if (n2 < n1):\n",
    "                    n1, n2 = n2, n1 \n",
    "                odd_pairs[(n1, n2)] = v\n",
    "\n",
    "        # Return the number of odd links\n",
    "        return len(odd_pairs)\n",
    "\n",
    "    \n",
    "def main():\n",
    "    \"\"\"Main function\"\"\"\n",
    "    test_data = [\n",
    "        [[0,3,4,2,6,3], [3,1,3,3,3,5], 6],\n",
    "        [[0, 4, 2, 2, 4], [1, 3, 1, 3, 5], 9],\n",
    "        [[0, 4, 4, 2, 7, 6, 3], [3, 5, 1, 3, 4, 3, 4], 16],\n",
    "    ]\n",
    "    ob1 = Solution()\n",
    "    for A, B, ans in test_data:\n",
    "        print(f\"# Input: A={A}, B={B} (ans={ans})\")\n",
    "        print(f\"  Output = {ob1.solution_v1(A, B)}\")\n",
    "        \n",
    "        \n",
    "main()"
   ]
  },
  {
   "cell_type": "code",
   "execution_count": 5,
   "id": "48e3592b-4661-4613-bef0-b2d5f37fc5f1",
   "metadata": {},
   "outputs": [
    {
     "data": {
      "text/plain": [
       "1"
      ]
     },
     "execution_count": 5,
     "metadata": {},
     "output_type": "execute_result"
    }
   ],
   "source": [
    "1 % 2"
   ]
  }
 ],
 "metadata": {
  "kernelspec": {
   "display_name": "Python 3 (ipykernel)",
   "language": "python",
   "name": "python3"
  },
  "language_info": {
   "codemirror_mode": {
    "name": "ipython",
    "version": 3
   },
   "file_extension": ".py",
   "mimetype": "text/x-python",
   "name": "python",
   "nbconvert_exporter": "python",
   "pygments_lexer": "ipython3",
   "version": "3.10.6"
  }
 },
 "nbformat": 4,
 "nbformat_minor": 5
}
