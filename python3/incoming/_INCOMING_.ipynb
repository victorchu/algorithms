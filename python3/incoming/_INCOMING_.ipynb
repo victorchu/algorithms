{
 "cells": [
  {
   "cell_type": "markdown",
   "id": "192ef72b-6776-42da-8c49-385c77a5521b",
   "metadata": {},
   "source": [
    "# Incoming\n",
    "\n",
    "New problems that have not assigned to a category yet.\n",
    "\n",
    "Easy\n",
    "\n",
    "\n",
    "Medium\n",
    "\n",
    "\n",
    "Hard\n"
   ]
  },
  {
   "cell_type": "markdown",
   "id": "6d2dfe53-3ea1-471a-8449-d23aa757db8a",
   "metadata": {},
   "source": [
    "# Easy"
   ]
  },
  {
   "cell_type": "markdown",
   "id": "70baa76c-5729-4daf-aa91-e76bc349e024",
   "metadata": {},
   "source": [
    "## Binary Gap\n",
    "\n",
    "Find longest sequence of zeros in binary representation of an integer.\n",
    "\n",
    "A binary gap within a positive integer N is any maximal sequence of consecutive zeros that is surrounded by ones at both ends in the binary representation of N.\n",
    "\n",
    "For example, number 9 has binary representation 1001 and contains a binary gap of length 2. The number 529 has binary representation 1000010001 and contains two binary gaps: one of length 4 and one of length 3. The number 20 has binary representation 10100 and contains one binary gap of length 1. The number 15 has binary representation 1111 and has no binary gaps. The number 32 has binary representation 100000 and has no binary gaps.\n",
    "\n",
    "Write a function:\n",
    "\n",
    "def solution(N)\n",
    "\n",
    "that, given a positive integer N, returns the length of its longest binary gap. The function should return 0 if N doesn't contain a binary gap.\n",
    "\n",
    "For example, given N = 1041 the function should return 5, because N has binary representation 10000010001 and so its longest binary gap is of length 5. Given N = 32 the function should return 0, because N has binary representation '100000' and thus no binary gaps.\n",
    "\n",
    "Write an efficient algorithm for the following assumptions:\n",
    "\n",
    "N is an integer within the range [1..2,147,483,647]."
   ]
  },
  {
   "cell_type": "code",
   "execution_count": 3,
   "id": "043ff73f-e6ce-4a68-9e14-fd401ffc7044",
   "metadata": {},
   "outputs": [
    {
     "name": "stdout",
     "output_type": "stream",
     "text": [
      "# Input = 9 (ans=2)\n",
      "  Output = 2\n",
      "# Input = 32 (ans=0)\n",
      "  Output = 0\n",
      "# Input = 529 (ans=4)\n",
      "  Output = 4\n",
      "# Input = 1041 (ans=5)\n",
      "  Output = 5\n"
     ]
    }
   ],
   "source": [
    "from typing import List\n",
    "\n",
    "class Solution:\n",
    "    def binary_gap(self, N: int) -> int:\n",
    "        \"\"\"binary operations\"\"\"\n",
    "        curr_gap = max_gap = 0\n",
    "        has_one = False\n",
    "        while N:\n",
    "            b = N & 1\n",
    "            N >>= 1\n",
    "            if b == 1:\n",
    "                if has_one:\n",
    "                    if curr_gap > 0:\n",
    "                        max_gap = max(curr_gap, max_gap)\n",
    "                        curr_gap = 0\n",
    "                else:\n",
    "                    has_one = True\n",
    "            elif has_one:\n",
    "                curr_gap += 1\n",
    "        return max_gap\n",
    "        \n",
    "\n",
    "def main():\n",
    "    \"\"\"Main function\"\"\"\n",
    "    test_data = [\n",
    "        [9, 2],\n",
    "        [32, 0],\n",
    "        [529, 4],\n",
    "        [1041, 5],\n",
    "    ]\n",
    "    ob1 = Solution()\n",
    "    for N, ans in test_data:\n",
    "        print(f\"# Input = {N} (ans={ans})\")\n",
    "        print(f\"  Output = {ob1.binary_gap(N)}\")\n",
    "        \n",
    "main()"
   ]
  },
  {
   "cell_type": "code",
   "execution_count": null,
   "id": "37eb9ddc-7f7c-4416-b8fc-dc8860125363",
   "metadata": {},
   "outputs": [],
   "source": []
  },
  {
   "cell_type": "code",
   "execution_count": null,
   "id": "b9a8cde6-dd7b-4162-a428-648259bca0a3",
   "metadata": {},
   "outputs": [],
   "source": []
  },
  {
   "cell_type": "code",
   "execution_count": null,
   "id": "fe13f8bf-3d64-4ff3-b5b8-2e8a97edf76e",
   "metadata": {},
   "outputs": [],
   "source": []
  },
  {
   "cell_type": "markdown",
   "id": "db6cecc3-b7c5-4ab4-b3f5-0b07f18f0230",
   "metadata": {},
   "source": [
    "# Medium"
   ]
  },
  {
   "cell_type": "markdown",
   "id": "7f3f66eb-bc5d-4fde-811a-ba3224f861ad",
   "metadata": {},
   "source": []
  },
  {
   "cell_type": "code",
   "execution_count": null,
   "id": "52a56927-10a1-4129-85dc-3c8aa9606b72",
   "metadata": {},
   "outputs": [],
   "source": []
  },
  {
   "cell_type": "markdown",
   "id": "a2abf310-2597-4b53-abb5-df0fe205d53e",
   "metadata": {},
   "source": [
    "# Hard"
   ]
  },
  {
   "cell_type": "code",
   "execution_count": null,
   "id": "68b41e23-1719-4164-8c59-64db0976948d",
   "metadata": {},
   "outputs": [],
   "source": []
  },
  {
   "cell_type": "code",
   "execution_count": null,
   "id": "8f53d533-a4aa-4fd8-a9ad-b4f10d8a0926",
   "metadata": {},
   "outputs": [],
   "source": []
  },
  {
   "cell_type": "markdown",
   "id": "3daac321-bc29-4260-a053-38c40685f3dc",
   "metadata": {},
   "source": [
    "# Challenges"
   ]
  },
  {
   "cell_type": "code",
   "execution_count": null,
   "id": "48e3592b-4661-4613-bef0-b2d5f37fc5f1",
   "metadata": {},
   "outputs": [],
   "source": []
  }
 ],
 "metadata": {
  "kernelspec": {
   "display_name": "Python 3 (ipykernel)",
   "language": "python",
   "name": "python3"
  },
  "language_info": {
   "codemirror_mode": {
    "name": "ipython",
    "version": 3
   },
   "file_extension": ".py",
   "mimetype": "text/x-python",
   "name": "python",
   "nbconvert_exporter": "python",
   "pygments_lexer": "ipython3",
   "version": "3.10.6"
  }
 },
 "nbformat": 4,
 "nbformat_minor": 5
}
