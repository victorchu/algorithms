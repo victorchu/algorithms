{
 "cells": [
  {
   "cell_type": "markdown",
   "id": "99f5cd33-4396-490a-8fa1-97e3c5c17be7",
   "metadata": {},
   "source": [
    "# Recursion\n",
    "\n",
    "\n",
    "## Medium\n",
    "\n",
    "### [ ] [Generat Parentheses](generat_parentheses.py)\n",
    "  - Given n pairs of parentheses, write a function to generate all combinations of well-formed parentheses.\n",
    "\n",
    "### [ ]  [Letter Combinations of a Phone Number](letter_combinations_of_a_phone_number.py)\n",
    "  - Given a string containing digits from 2-9 inclusive, return all \n",
    "    possible letter combinations that the number could represent.\n",
    "\n",
    "### [x] [Permutations](permutations.ipynb) *\n",
    "  - Given a collection of integers, return all possible permutations.\n",
    "  - V1: distinct integers; V2: with duplications.\n",
    "\n",
    "### [ ] [Word Search](word_search.py)\n",
    "  - Given a 2D board and a word, find if the word exists in the grid.\n",
    "  - See Also: [word_search2.py](word_search2.py)\n",
    "\n",
    "## Hard\n",
    "\n",
    "### [ ] [Regular Expression Matching](regular_expression_matching.py)\n",
    "  - Implement regular expression matching with support for . and *\n",
    "\n",
    "### [ ] [Remove Invalid Parentheses](remove_invalid_parentheses.py)\n",
    "  - Remove the minimum number of invalid parentheses in order to make the input string valid.\n",
    "\n",
    "### [ ] [Word Search2](word_search2.py)\n",
    "  - Given a 2D board and a list of words from the dictionary, find all words in the board.\n",
    "  - See Also: [word_search.py](word_search.py), [trie.py](../design/trie.py)"
   ]
  },
  {
   "cell_type": "markdown",
   "id": "d76dc6f6-dd43-4593-a3af-d8998cd17394",
   "metadata": {},
   "source": [
    "---\n",
    "# Medium"
   ]
  },
  {
   "cell_type": "code",
   "execution_count": null,
   "id": "387c47d6-ddb2-4e39-adec-e4254fcde4b9",
   "metadata": {},
   "outputs": [],
   "source": []
  },
  {
   "cell_type": "markdown",
   "id": "9155e086-db12-473c-9f7f-d29ae7fa209b",
   "metadata": {},
   "source": [
    "## [letter_combinations_of_a_phone_number.py](letter_combinations_of_a_phone_number.py)\n",
    "  - Given a string containing digits from 2-9 inclusive, return all \n",
    "    possible letter combinations that the number could represent."
   ]
  },
  {
   "cell_type": "code",
   "execution_count": 19,
   "id": "9f0b8267-86f4-4749-bffa-eb33f6bd526a",
   "metadata": {},
   "outputs": [
    {
     "name": "stdout",
     "output_type": "stream",
     "text": [
      "# Input = '23'\n",
      "  Output v1 = ['BD', 'BE', 'BF', 'CD', 'CE', 'CF', 'DD', 'DE', 'DF']\n",
      "# Input = '1'\n",
      "  Output v1 = []\n",
      "# Input = ''\n",
      "  Output v1 = ['']\n"
     ]
    }
   ],
   "source": [
    "from typing import List\n",
    "\n",
    "letter_map = {\n",
    "    '0': '',\n",
    "    '1': '',\n",
    "    '2': 'BCD',\n",
    "    '3': 'DEF',\n",
    "    '4': 'GHI',\n",
    "    '5': 'JKL',\n",
    "    '6': 'MNO',\n",
    "    '7': 'PQRS',\n",
    "    '8': 'TUV',\n",
    "    '9': 'WXYZ',\n",
    "    '*': '',\n",
    "    '#': '',\n",
    "}\n",
    "\n",
    "class Solution:\n",
    "    def letterCombinations(self, digits: str) -> List[str]:\n",
    "        def helper(digits: str, i:int, prefix: str, results: List):\n",
    "            if i >= len(digits):\n",
    "                results.append(prefix)\n",
    "                return\n",
    "            for c in letter_map[digits[i]]:\n",
    "                helper(digits, i+1, prefix + c, results)                            \n",
    "\n",
    "        results = []\n",
    "        helper(digits, 0, \"\", results)\n",
    "        return results\n",
    "\n",
    "def main():\n",
    "    test_data = [\n",
    "        \"23\",\n",
    "        \"1\",\n",
    "        '',\n",
    "    ]\n",
    "\n",
    "    ob1 = Solution()\n",
    "    for digits in test_data:\n",
    "        print(f\"# Input = '{digits}'\")\n",
    "        print(f\"  Output v1 = {ob1.letterCombinations(digits)}\")\n",
    "\n",
    "main()"
   ]
  },
  {
   "cell_type": "markdown",
   "id": "927a5fa0-b8fc-4101-b68d-1744c5ac562c",
   "metadata": {},
   "source": [
    "## [word_search.py](word_search.py)\n",
    "  - Given a 2D board and a word, find if the word exists in the grid.\n",
    "  - See Also: [word_search2.py](word_search2.py)\n"
   ]
  },
  {
   "cell_type": "code",
   "execution_count": 79,
   "id": "f417d1b2-d36e-4039-87da-93e897337d82",
   "metadata": {},
   "outputs": [
    {
     "name": "stdout",
     "output_type": "stream",
     "text": [
      "# Input  : word = ABCCED (ans = True)\n",
      "  ['A', 'B', 'C', 'E']\n",
      "  ['S', 'F', 'C', 'S']\n",
      "  ['A', 'D', 'E', 'E']\n",
      "  Output : False\n",
      "# Input  : word = SEE (ans = True)\n",
      "  ['A', 'B', 'C', 'E']\n",
      "  ['S', 'F', 'C', 'S']\n",
      "  ['A', 'D', 'E', 'E']\n",
      "  Output : False\n",
      "# Input  : word = ABCB (ans = False)\n",
      "  ['A', 'B', 'C', 'E']\n",
      "  ['S', 'F', 'C', 'S']\n",
      "  ['A', 'D', 'E', 'E']\n",
      "  Output : False\n",
      "# Input  : word = ABCESEECFSAD (ans = True)\n",
      "  ['A', 'B', 'C', 'E']\n",
      "  ['S', 'F', 'C', 'S']\n",
      "  ['A', 'D', 'E', 'E']\n",
      "  Output : False\n"
     ]
    }
   ],
   "source": [
    "from typing import List\n",
    "\n",
    "\n",
    "class Solution:\n",
    "    def search(self, board: List[List[str]], word: str) -> bool:\n",
    "\n",
    "        def dfs(board, word, i, j, k, visited, n_rows, n_cols) -> bool:\n",
    "            if k >= len(word):\n",
    "                return True\n",
    "            if board[i][j] != word[k]:\n",
    "                return False\n",
    "\n",
    "            visited[i][j] = True\n",
    "            for next_i in [i-1, i+1]:\n",
    "                if (next_i < 0) or (next_i >= n_rows):\n",
    "                    continue\n",
    "                for next_j in [j-1, j+1]:\n",
    "                    if (next_j < 0) or (next_j >= n_cols):\n",
    "                        continue            \n",
    "                    if visited[next_i][next_j] == True:\n",
    "                        continue\n",
    "                    if dfs(board, word, next_i, next_j, k+1, visited, n_rows, n_cols):\n",
    "                        return True\n",
    "            visited[i][j] = False  # Restore the visited state.\n",
    "            return False\n",
    "        \n",
    "        # Find a starting position\n",
    "        n_rows = len(board)\n",
    "        n_cols = len(board[0])\n",
    "        visited = [ [False] * len(r) for r in board ]\n",
    "        for i, row in enumerate(board):\n",
    "            for j in range(len(row)):\n",
    "                if dfs(board, word, i, j, 0, visited, n_rows, n_cols):\n",
    "                    return True\n",
    "        return False\n",
    "\n",
    "        \n",
    "def main():\n",
    "    board1 = [\n",
    "        ['A', 'B', 'C', 'E'],\n",
    "        ['S', 'F', 'C', 'S'],\n",
    "        ['A', 'D', 'E', 'E']\n",
    "    ]\n",
    "    test_data = [\n",
    "        [board1, 'ABCCED', True],\n",
    "        [board1, 'SEE', True],\n",
    "        [board1, 'ABCB', False],\n",
    "        [board1, 'ABCESEECFSAD', True],\n",
    "    ]\n",
    "\n",
    "    sol = Solution()\n",
    "    for board, word, ans in test_data:\n",
    "        print(\"# Input  : word = {} (ans = {})\".format(word, ans))\n",
    "        for r in board:\n",
    "            print(\"  {}\".format(r))\n",
    "        print(\"  Output : {}\".format(sol.search(board, word)))\n",
    "\n",
    "        \n",
    "main()"
   ]
  },
  {
   "cell_type": "code",
   "execution_count": null,
   "id": "0a987540-19bf-4cbd-86d0-54defd895d06",
   "metadata": {},
   "outputs": [],
   "source": []
  }
 ],
 "metadata": {
  "kernelspec": {
   "display_name": "Python 3 (ipykernel)",
   "language": "python",
   "name": "python3"
  },
  "language_info": {
   "codemirror_mode": {
    "name": "ipython",
    "version": 3
   },
   "file_extension": ".py",
   "mimetype": "text/x-python",
   "name": "python",
   "nbconvert_exporter": "python",
   "pygments_lexer": "ipython3",
   "version": "3.10.6"
  }
 },
 "nbformat": 4,
 "nbformat_minor": 5
}
