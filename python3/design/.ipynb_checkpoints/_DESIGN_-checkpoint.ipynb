{
 "cells": [
  {
   "cell_type": "markdown",
   "id": "0815063f-4bc0-45ed-808c-846310085af6",
   "metadata": {},
   "source": [
    "# Design\n",
    "\n",
    "Easy\n",
    "\n",
    "+ [Min Stack](min_stack.py)\n",
    "  - Design a stack that supports push, pop, top, and retrieving the minimum element in constant time.\n",
    "\n",
    "Medium\n",
    "\n",
    "+ [LRU Cache](lru_cache.py)\n",
    "  - Design and implement a data structure for Least Recently Used (LRU) cache.\n",
    "\n",
    "+ [Trie](trie.py)\n",
    "  - Implement a trie (pronounce 'try', aka prefix tree) with insert, search,\n",
    "    and startsWith methods.\n",
    "\n",
    "Hard\n",
    "\n",
    "+ [Maximum Frequency Stack](max_frequency_stack.py)\n",
    "  - Implement FreqStack which will always pop the most frequent remaining element.\n",
    "\n",
    "+ [Find Median from Data Stream](median_finder.py)\n",
    "  - Given that integers are read from a data stream, find median for data read for\n",
    "    in efficient way.\n",
    "\n",
    "+ [Serialize and Deserialize Binary Tree](serialize_deserialize_binary_tree.py)\n",
    "  - Serialize and derialize binary trees.\n",
    "\n"
   ]
  },
  {
   "cell_type": "markdown",
   "id": "3d75bfc3-5a57-4587-b4eb-595e71a30bed",
   "metadata": {},
   "source": [
    "# Easy"
   ]
  },
  {
   "cell_type": "code",
   "execution_count": null,
   "id": "c8e75d46-8d7f-4b97-9a93-6b380f3717ee",
   "metadata": {},
   "outputs": [],
   "source": []
  },
  {
   "cell_type": "code",
   "execution_count": null,
   "id": "b53411cc-0388-49c0-8e04-714242fa99ed",
   "metadata": {},
   "outputs": [],
   "source": []
  },
  {
   "cell_type": "markdown",
   "id": "1700528e-6425-4b55-bf78-11a14fd06e27",
   "metadata": {},
   "source": [
    "# Medium"
   ]
  },
  {
   "cell_type": "markdown",
   "id": "f7e1aca1-66dc-40e2-be0e-651579a1f99e",
   "metadata": {},
   "source": [
    "## [LRU Cache](lru_cache.py)\n",
    "Design and implement a data structure for Least Recently Used (LRU) cache.\n",
    "It should support the following operations: get and put.\n",
    "```\n",
    "  get(key) - Get the value (will always be positive) of the key if the key exists in the cache,\n",
    "      otherwise return -1.\n",
    "\n",
    "  put(key, value) - Set or insert the value if the key is not already present.  When the cache\n",
    "      reached its capacity, it should invalidate the least recently used item before inserting a new item.\n",
    "```\n",
    "The cache is initialized with a positive capacity."
   ]
  },
  {
   "cell_type": "code",
   "execution_count": 8,
   "id": "daebac34-c7b7-4620-8762-993cced508f5",
   "metadata": {},
   "outputs": [
    {
     "name": "stdout",
     "output_type": "stream",
     "text": [
      "# LRUCache_v1(2)\n",
      " - put([1, 1])\n",
      " - put([2, 2])\n",
      " - get([1]) = 1\n",
      " - put([3, 3])\n",
      " - get([2]) = -1\n",
      " - put([4, 4])\n",
      " - get([1]) = -1\n",
      " - get([3]) = 3\n",
      " - get([4]) = 4\n",
      "\n",
      "# LRUCache_v1(2)\n",
      " - get([2]) = -1\n",
      " - put([2, 6])\n",
      " - get([1]) = -1\n",
      " - put([1, 5])\n",
      " - put([1, 2])\n",
      " - get([1]) = 2\n",
      " - get([2]) = 6\n",
      "\n"
     ]
    }
   ],
   "source": [
    "class LRUCache_v1:\n",
    "    \"\"\"A simple implementation using a list to track the order.\n",
    "    Order change can be O(N).\n",
    "    \"\"\"\n",
    "    def __init__(self, capacity):\n",
    "        self.capacity = capacity\n",
    "        self.cache = dict()\n",
    "        self.keys = list()\n",
    "        \n",
    "    def get(self, key: int) -> int:\n",
    "        if key in self.cache:\n",
    "            val = self.cache[key]\n",
    "            self.keys.remove(key)\n",
    "            self.keys.append(key)\n",
    "        else:\n",
    "            val = -1\n",
    "        return val\n",
    "\n",
    "    def put(self, key, val):\n",
    "        if key in self.cache:\n",
    "            self.cache[key] = val  # override the existing value\n",
    "            self.keys.remove(key)\n",
    "            self.keys.append(key)\n",
    "        else:\n",
    "            if len(self.cache) >= self.capacity:\n",
    "                oldest_key = self.keys.pop(0)\n",
    "                del self.cache[oldest_key]\n",
    "            self.cache[key] = val\n",
    "            self.keys.append(key)\n",
    "        \n",
    "            \n",
    "def lru_driver(cmds, args, ver='v1'):\n",
    "    obj = None\n",
    "    for cmd, arg in zip(cmds, args):\n",
    "        #print(\"[DEBUG] processing cmd = {}, arg = {}\".format(cmd, arg))\n",
    "        if cmd == 'LRUCache':\n",
    "            print(\"# LRUCache_{}({})\".format(ver, *arg))\n",
    "            if ver == 'v1':\n",
    "                obj = LRUCache_v1(*arg)\n",
    "            elif ver == 'v2':\n",
    "                obj = LRUCache_v2(*arg)\n",
    "            elif ver == 'v3':\n",
    "                obj = LRUCache_v3(*arg)\n",
    "\n",
    "        elif cmd == 'put':\n",
    "            print(\" - put({})\".format(arg))\n",
    "            obj.put(*arg)\n",
    "\n",
    "        elif cmd == 'get':\n",
    "            val = obj.get(*arg)\n",
    "            print(\" - get({}) = {}\".format(arg, val))\n",
    "\n",
    "    print()\n",
    "\n",
    "    \n",
    "def main():\n",
    "    test_data = [\n",
    "        [[\"LRUCache\", \"put\", \"put\", \"get\", \"put\", \"get\", \"put\", \"get\", \"get\", \"get\"],\n",
    "            [[2], [1, 1], [2, 2], [1], [3, 3], [2], [4, 4], [1], [3], [4]]],\n",
    "        # expected: [null,null,null,1,null,-1,null,-1,3,4]\n",
    "\n",
    "        [[\"LRUCache\", \"get\", \"put\", \"get\", \"put\", \"put\", \"get\", \"get\"],\n",
    "            [[2], [2], [2, 6], [1], [1, 5], [1, 2], [1], [2]]]\n",
    "        # expected: [null, -1, null, -1, null, null, 2, 6]\n",
    "    ]\n",
    "\n",
    "    for cmds, args in test_data:\n",
    "        lru_driver(cmds, args, \"v1\")\n",
    "\n",
    "    \n",
    "main()"
   ]
  },
  {
   "cell_type": "code",
   "execution_count": 2,
   "id": "23084d4f-40e5-4802-8409-760780ec0127",
   "metadata": {},
   "outputs": [
    {
     "data": {
      "text/plain": [
       "[0, 1, 3, 7]"
      ]
     },
     "execution_count": 2,
     "metadata": {},
     "output_type": "execute_result"
    }
   ],
   "source": [
    "x = [1,3,5,7]\n",
    "x.remove(5)\n",
    "x.insert(0,0)\n",
    "x\n"
   ]
  },
  {
   "cell_type": "code",
   "execution_count": 4,
   "id": "951c49e2-14d6-4d19-be96-ded160a39672",
   "metadata": {},
   "outputs": [
    {
     "data": {
      "text/plain": [
       "0"
      ]
     },
     "execution_count": 4,
     "metadata": {},
     "output_type": "execute_result"
    }
   ],
   "source": [
    "x.pop(0)"
   ]
  },
  {
   "cell_type": "markdown",
   "id": "03a04124-4227-4eba-8105-271233d4d70a",
   "metadata": {},
   "source": [
    "## [Trie](trie.py)\n",
    "Implement a trie (pronounce 'try', aka prefix tree) with insert, search,\n",
    "and startsWith methods."
   ]
  },
  {
   "cell_type": "code",
   "execution_count": null,
   "id": "cc811789-a047-489c-9cff-1732690fa28b",
   "metadata": {},
   "outputs": [],
   "source": []
  },
  {
   "cell_type": "markdown",
   "id": "f5eef1a6-b050-4db2-9a6f-c03256cf0e05",
   "metadata": {},
   "source": [
    "# Hard"
   ]
  },
  {
   "cell_type": "markdown",
   "id": "ca592620-87c3-4fc0-91ea-4d759f9c7d3c",
   "metadata": {},
   "source": [
    "## [Maximum Frequency Stack](max_frequency_stack.py)\n",
    "Implement FreqStack which will always pop the most frequent remaining element."
   ]
  },
  {
   "cell_type": "code",
   "execution_count": 10,
   "id": "0192e947-855d-4924-b96d-5ab05e473d65",
   "metadata": {},
   "outputs": [
    {
     "name": "stdout",
     "output_type": "stream",
     "text": [
      "# Input: \n",
      "  - cmds = ['FreqStack', 'push', 'push', 'push', 'push', 'push', 'push', 'pop', 'pop', 'pop', 'pop']\n",
      "  - args = [[], [5], [7], [5], [7], [4], [5], [], [], [], []]\n",
      "  - ans  = [None, None, None, None, None, None, None, 5, 7, 5, 4]\n",
      "  Output = [None, None, None, None, None, None, None, 5, 7, 5, 4]\n"
     ]
    }
   ],
   "source": [
    "import heapq\n",
    "from collections import defaultdict\n",
    "\n",
    "\n",
    "# Heap is not the right structure. It doesn't support modification of nodes that are not at the top.\n",
    "# Instead, we need a custom structure.\n",
    "class FreqStack:\n",
    "    \"\"\"A frequency stack. On pop, the element with highest frequency will be poped.\n",
    "\n",
    "    It uses a counter to track the frequency of each element.\n",
    "    It has multiple sub-stacks; each is used to track the element with a specific frequency.\n",
    "    \n",
    "    Example:\n",
    "      Pushing 5, 7, 5, 7, 4, 5 into the structure, the elements are stored in the following way\n",
    "\n",
    "      freq_stacks =\n",
    "        [[5, 7, 4], # frequency 1, storing the first apperance of each element\n",
    "         [5, 7],    # frequency 2, storing elements with frequency 2\n",
    "         [5]]       # frequency 3\n",
    "         \n",
    "      Note that 5 was pushed 3 times; then, it is stored 3 times in the structure,\n",
    "      each in a different sub-stack.\n",
    "    \"\"\"\n",
    "    def __init__(self):\n",
    "        self.freq_stacks = []    # [stack1, stack2, stack3, ..., stackN]\n",
    "        self.counter = defaultdict(int)\n",
    "\n",
    "    def push(self, x: int) -> None:\n",
    "        self.counter[x] += 1\n",
    "        freq = self.counter[x]\n",
    "        if freq <= len(self.freq_stacks):\n",
    "            sub_stack = self.freq_stacks[freq - 1]\n",
    "            sub_stack.append(x)\n",
    "        else:\n",
    "            sub_stack = [x]\n",
    "            self.freq_stacks.append(sub_stack)\n",
    "    \n",
    "    def pop(self) -> int:\n",
    "        if not self.freq_stacks:\n",
    "            return None\n",
    "        sub_stack = self.freq_stacks[-1]\n",
    "        x = sub_stack.pop()\n",
    "        self.counter[x] -= 1\n",
    "        if not sub_stack:\n",
    "            self.freq_stacks.pop()\n",
    "        return x\n",
    "\n",
    "\n",
    "def driver(cmds, args, ver=None):\n",
    "    ob1 = None\n",
    "    outputs = []\n",
    "    for cmd, arg in zip(cmds, args):\n",
    "        if cmd == 'FreqStack':\n",
    "            ob1 = FreqStack()\n",
    "            outputs.append(None)\n",
    "        elif cmd == 'push':\n",
    "            outputs.append(ob1.push(*arg))\n",
    "        elif cmd == 'pop':\n",
    "            outputs.append(ob1.pop())\n",
    "        else:\n",
    "            raise Exception(f\"Invalid command {cmd}\")\n",
    "    return outputs\n",
    "\n",
    "\n",
    "def main():\n",
    "    test_data = [\n",
    "        [[\"FreqStack\", \"push\", \"push\", \"push\", \"push\", \"push\", \"push\", \"pop\", \"pop\", \"pop\", \"pop\"],\n",
    "         [[], [5], [7], [5], [7], [4], [5], [], [], [], []],\n",
    "         [None, None, None, None, None, None, None, 5, 7, 5, 4]\n",
    "         ],\n",
    "    ]\n",
    "\n",
    "    for cmds, args, ans in test_data:\n",
    "        print(\"# Input: \".format(cmds, args, ans))\n",
    "        print(\"  - cmds = {}\".format(cmds))\n",
    "        print(\"  - args = {}\".format(args))\n",
    "        print(\"  - ans  = {}\".format(ans))\n",
    "        print(\"  Output = {}\".format(driver(cmds, args)))    \n",
    "\n",
    "        \n",
    "main()"
   ]
  },
  {
   "cell_type": "code",
   "execution_count": null,
   "id": "2b12040e-4dea-4645-9cc0-304c0365ce87",
   "metadata": {},
   "outputs": [],
   "source": []
  },
  {
   "cell_type": "code",
   "execution_count": null,
   "id": "39081cf1-c58e-4925-8fe5-888a2df0a44e",
   "metadata": {},
   "outputs": [],
   "source": []
  }
 ],
 "metadata": {
  "kernelspec": {
   "display_name": "Python 3 (ipykernel)",
   "language": "python",
   "name": "python3"
  },
  "language_info": {
   "codemirror_mode": {
    "name": "ipython",
    "version": 3
   },
   "file_extension": ".py",
   "mimetype": "text/x-python",
   "name": "python",
   "nbconvert_exporter": "python",
   "pygments_lexer": "ipython3",
   "version": "3.10.4"
  }
 },
 "nbformat": 4,
 "nbformat_minor": 5
}
