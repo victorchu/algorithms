{
 "cells": [
  {
   "cell_type": "markdown",
   "id": "dd570ecb-3635-43f4-b056-51617a3368b3",
   "metadata": {},
   "source": [
    "## Invert a binary tree\n",
    "\n",
    "EXAMPLES:\n",
    "\n",
    "```\n",
    "  Input: root = [4,2,7,1,3,6,9]\n",
    "  \n",
    "             [4]\n",
    "            /   \\\n",
    "         [2]     [7]\n",
    "         / \\     / \\\n",
    "       [1] [3] [6] [9]\n",
    "\n",
    "  Output = [4,7,2,9,6,3,1]\n",
    "  \n",
    "             [4]\n",
    "            /   \\\n",
    "         [7]     [2]\n",
    "         / \\     / \\\n",
    "       [9] [6] [3] [1]\n",
    "```\n",
    "TRIVIA:\n",
    "\n",
    "  - This problem was inspired by [this original tweet](https://twitter.com/mxcl/status/608682016205344768)\n",
    "    by Max Howell:\n",
    "```    \n",
    "  Google: 90% of our engineers use the software you wrote (Homebrew),\n",
    "  but you can’t invert a binary tree on a whiteboard so f*** off.\n",
    "```\n",
    "\n",
    "REFERNECE:\n",
    "  - https://leetcode.com/problems/invert-binary-tree/ (Easy)\n"
   ]
  },
  {
   "cell_type": "code",
   "execution_count": 1,
   "id": "1067dc66-5e21-488d-8f62-efa339965cbe",
   "metadata": {},
   "outputs": [
    {
     "name": "stdout",
     "output_type": "stream",
     "text": [
      "# Input: root = [4, 2, 7, 1, 3, 6, 9]\n",
      "  Output v1 = [4, 7, 2, 9, 6, 3, 1]\n",
      "  Output v2 = [4, 7, 2, 9, 6, 3, 1]\n"
     ]
    }
   ],
   "source": [
    "\n",
    "from typing import List\n",
    "from shared_utils import TreeNode, make_tree, tree_to_list\n",
    "\n",
    "\n",
    "class Solution:\n",
    "    def invertTree_v1(self, root: TreeNode) -> TreeNode:\n",
    "        \"\"\"BFS\"\"\"        \n",
    "        def bfs(node):\n",
    "            if not node:\n",
    "                return            \n",
    "            node.left, node.right = node.right, node.left\n",
    "            bfs(node.left)\n",
    "            bfs(node.right) \n",
    "\n",
    "        bfs(root)\n",
    "        return root\n",
    "        \n",
    "    def invertTree_v2(self, root: TreeNode) -> TreeNode:\n",
    "        \"\"\"Loop and layer by layer\"\"\"\n",
    "        queue = [root]\n",
    "        while queue:\n",
    "            next_queue = []\n",
    "            for node in queue:\n",
    "                node.left, node.right = node.right, node.left\n",
    "                if node.left:\n",
    "                    next_queue.append(node.left) \n",
    "                if node.right:\n",
    "                    next_queue.append(node.right)\n",
    "            queue = next_queue\n",
    "        return root\n",
    "\n",
    "\n",
    "def main():\n",
    "    \"\"\"Main function\"\"\"\n",
    "\n",
    "    # Test data\n",
    "    test_data = [\n",
    "        [4, 2, 7, 1, 3, 6, 9],\n",
    "    ]\n",
    "\n",
    "    ob1 = Solution()\n",
    "    for vals in test_data:\n",
    "        print(f\"# Input: root = {vals}\")\n",
    "        print(f\"  Output v1 = {ob1.invertTree_v1(make_tree(vals))}\")\n",
    "        print(f\"  Output v2 = {ob1.invertTree_v2(make_tree(vals))}\")\n",
    "\n",
    "\n",
    "if __name__ == \"__main__\":\n",
    "    main()\n"
   ]
  }
 ],
 "metadata": {
  "kernelspec": {
   "display_name": "Python 3 (ipykernel)",
   "language": "python",
   "name": "python3"
  },
  "language_info": {
   "codemirror_mode": {
    "name": "ipython",
    "version": 3
   },
   "file_extension": ".py",
   "mimetype": "text/x-python",
   "name": "python",
   "nbconvert_exporter": "python",
   "pygments_lexer": "ipython3",
   "version": "3.10.6"
  }
 },
 "nbformat": 4,
 "nbformat_minor": 5
}
