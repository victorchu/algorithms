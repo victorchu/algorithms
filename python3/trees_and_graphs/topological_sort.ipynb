{
 "cells": [
  {
   "cell_type": "markdown",
   "id": "414f8a98-3321-40d9-bf1d-7dd12215455e",
   "metadata": {},
   "source": [
    "# Topological Sort\n",
    "\n",
    "Topological Sort of a directed graph (a graph with unidirectional edges) is a linear ordering of its vertices such that for every directed edge (U, V) from vertex U to vertex V, U comes before V in the ordering.\n",
    "\n",
    "Given a directed graph, find the topological ordering of its vertices.\n",
    "\n",
    "Example 1:\n",
    "```\n",
    "Input: Vertices=4, Edges=[3, 2], [3, 0], [2, 0], [2, 1]\n",
    "Output: Following are the two valid topological sorts for the given graph:\n",
    "1) 3, 2, 0, 1\n",
    "2) 3, 2, 1, 0\n",
    "```\n",
    "Example 2:\n",
    "```\n",
    "Input: Vertices=5, Edges=[4, 2], [4, 3], [2, 0], [2, 1], [3, 1]\n",
    "Output: Following are all valid topological sorts for the given graph:\n",
    "1) 4, 2, 3, 0, 1\n",
    "2) 4, 3, 2, 0, 1\n",
    "3) 4, 3, 2, 1, 0\n",
    "4) 4, 2, 3, 1, 0\n",
    "5) 4, 2, 0, 3, 1\n",
    "```\n",
    "Ref: https://www.educative.io/courses/grokking-the-coding-interview/m25rBmwLV00"
   ]
  },
  {
   "cell_type": "code",
   "execution_count": 3,
   "id": "adfaa147-1bde-499b-8a45-0e8d4c3e4ad9",
   "metadata": {},
   "outputs": [
    {
     "name": "stdout",
     "output_type": "stream",
     "text": [
      "Input: vertices=4, edges=[[3, 2], [3, 0], [2, 0], [2, 1]]\n",
      "  Topological sort: [3, 2, 0, 1]\n",
      "Input: vertices=5, edges=[[4, 2], [4, 3], [2, 0], [2, 1], [3, 1]]\n",
      "  Topological sort: [4, 2, 3, 0, 1]\n",
      "Input: vertices=7, edges=[[6, 4], [6, 2], [5, 3], [5, 4], [3, 0], [3, 1], [3, 2], [4, 1]]\n",
      "  Topological sort: [5, 6, 3, 4, 0, 2, 1]\n"
     ]
    }
   ],
   "source": [
    "from collections import defaultdict\n",
    "from typing import List\n",
    "\n",
    "\n",
    "class Solution:\n",
    "\n",
    "    def topological_sort(self, vertices: int, edges: List[List[int]]):\n",
    "        \"\"\"Use in degrees to find the order.\"\"\"\n",
    "        sortedOrder = []\n",
    "        if vertices <= 0 or not edges:\n",
    "            return sortedOrder\n",
    "\n",
    "        # a. Build the graph and inDegres.\n",
    "        inDegree = {i: 0 for i in range(vertices)}  # count of incoming edges\n",
    "        graph = defaultdict(list)\n",
    "\n",
    "        for parent, child in edges:\n",
    "            graph[parent].append(child)  # put the child into it's parent's list\n",
    "            inDegree[child] += 1  # increment child's inDegree\n",
    "\n",
    "        # b. Find all vertices with 0 in-degrees\n",
    "        queue = [k for (k,v) in inDegree.items() if v==0]\n",
    "\n",
    "        # c. For each source, add it to the sortedOrder and subtract one from all of its children's in-degrees\n",
    "        # if a child's in-degree becomes zero, add it to the sources queue\n",
    "        while queue:\n",
    "            vertex = queue.pop(0)\n",
    "            sortedOrder.append(vertex)\n",
    "            for child in graph[vertex]:  # get the node's children to decrement their in-degrees\n",
    "                inDegree[child] -= 1\n",
    "                if inDegree[child] == 0:\n",
    "                    queue.append(child)\n",
    "\n",
    "        # topological sort is not possible as the graph has a cycle\n",
    "        if len(sortedOrder) != vertices:\n",
    "            return []\n",
    "\n",
    "        return sortedOrder\n",
    "\n",
    "\n",
    "def main():\n",
    "    data_set = [\n",
    "        [4, [[3, 2], [3, 0], [2, 0], [2, 1]]],\n",
    "        [5, [[4, 2], [4, 3], [2, 0], [2, 1], [3, 1]]],\n",
    "        [7, [[6, 4], [6, 2], [5, 3], [5, 4], [3, 0], [3, 1], [3, 2], [4, 1]]],\n",
    "    ]\n",
    "    ob1 = Solution()\n",
    "    for vertices, edges in data_set:\n",
    "        print(f\"Input: vertices={vertices}, edges={edges}\")\n",
    "        print(f\"  Topological sort: {ob1.topological_sort(vertices, edges)}\")\n",
    "\n",
    "\n",
    "main()\n"
   ]
  }
 ],
 "metadata": {
  "kernelspec": {
   "display_name": "Python 3 (ipykernel)",
   "language": "python",
   "name": "python3"
  },
  "language_info": {
   "codemirror_mode": {
    "name": "ipython",
    "version": 3
   },
   "file_extension": ".py",
   "mimetype": "text/x-python",
   "name": "python",
   "nbconvert_exporter": "python",
   "pygments_lexer": "ipython3",
   "version": "3.10.6"
  }
 },
 "nbformat": 4,
 "nbformat_minor": 5
}
