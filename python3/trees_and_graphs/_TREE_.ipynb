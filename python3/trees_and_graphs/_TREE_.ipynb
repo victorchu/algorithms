{
 "cells": [
  {
   "cell_type": "markdown",
   "id": "98e0ecca-df32-44b9-8833-5e8fbc0cb890",
   "metadata": {},
   "source": [
    "# Trees and Graphs\n",
    "\n"
   ]
  },
  {
   "cell_type": "markdown",
   "id": "eddde248-6f78-47d1-9958-eee02c9579e7",
   "metadata": {},
   "source": [
    "## Easy\n",
    "\n",
    "### [binary_tree_paths.py](binary_tree_paths.py)\n",
    "  - Find all root-to-leaf paths in a binary tree.\n",
    "\n",
    "### [Diameter of Binary](diameter_of_binary_tree.py)\n",
    "  - Compute the diameter (or width) of a binary tree. \n",
    "\n",
    "### [flood_fill.py](flood_fill.py):\n",
    "  - Flood fill a 2-D image.\n",
    "\n",
    "### [x] [Invert Tree](invert_tree.ipynb)\n",
    "  - Invert a binary tree.\n",
    "\n",
    "### [x] [Symmetric Tree](symmetric_tree.ipynb)\n",
    "  - Given a binary tree, check whether it is a mirror of itself\n",
    "    (ie, symmetric around its center).\n",
    "  - See Also: [level_order_traversal.py](level_order_traversal.py)"
   ]
  },
  {
   "cell_type": "markdown",
   "id": "40f6a8e2-cbd0-4a32-b9b0-07c5bc97fbb5",
   "metadata": {},
   "source": [
    "## Medium\n",
    "\n",
    "###  [x] [Account Merge.py](account_merge.ipynb) *\n",
    "  - Merge duplicates account records with name and a list of emails.\n",
    "  - A good practice on dictionary and set.\n",
    " \n",
    "### [bipartite_graph.py](bipartite_graph.py)\n",
    "  - Given an undirected graph, return true if and only if it is bipartite.\n",
    "  \n",
    "### [bst_to_double_linked_list.py](bst_to_double_linked_list.py) *\n",
    "  -  Convert a Binary Search Tree (BST) to a sorted Circular Doubly-Linked List in place.\n",
    "\n",
    "### [clone_undirected_graph.py](clone_undirected_graph.py)\n",
    "  - Deep copy a graph.\n",
    "\n",
    "### [x] [Course Schedule](course_schedule.ipynb) *\n",
    "  - Given the total number of courses and a list of prerequisite pairs, is it\n",
    "    possible for you to finish all courses?\n",
    "  - Category: topological sorting.\n",
    "  - See Also: [alien_dictionary](alien_dictionary.ipynb),  [topological sort](topological_sort.ipynb)\n",
    "  \n",
    "### [ ] [Decode String](decode_string.py)\n",
    "  - Decode k[s] as k * s, where k is a positive number and s may contain other encodings.\\\n",
    "  - Techniques: recurssion and stack.\n",
    "  \n",
    "### [flatten_binary_tree_to_linked_list.py](flatten_binary_tree_to_linked_list.py)\n",
    "  - Given a binary tree, flatten it to a linked list in-place.\n",
    "  \n",
    "### [level_order_traversal.py](level_order_traversal.py)\n",
    "  - Given a binary tree, return the level order traversal of its nodes' values. \n",
    "    (ie, from left to right, level by level).\n",
    "  - See Also: [zipzag_level_traversal.py](zipzag_level_traversal.py)\n",
    "  \n",
    "### [ ] [Lowest Common Ancestor Binary Tree](lowest_common_ancestor_binary_tree.py)\n",
    "  - Given a binary tree, find the lowest common ancestor (LCA) of two given nodes in the tree.\n",
    "  - Try to traverse the tree only once.\n",
    "  \n",
    "### [ ] [Number of Islands](number_of_islands.py)\n",
    "  - Given a 2d grid map of '1's (land) and '0's (water), count the number of islands.\n",
    "  \n",
    "### [Right-side View of Tree](right_side_view_of_tree.py)\n",
    "  - Given a binary tree, imagine yourself standing on the right side\n",
    "    of it, return the values of the nodes you can see ordered from top to bottom.\n",
    "    \n",
    "### [x] [Topological Sort](topological_sort.ipynb) * \n",
    "   - Topological Sort of a directed graph (a graph with unidirectional edges) is a linear ordering of its vertices such that for every directed edge (U, V) from vertex U to vertex V, U comes before V in the ordering.\n",
    "  - Given a directed graph, find the topological ordering of its vertices.\n",
    "  - Category: topological sorting.\n",
    "  - See Also:  [Course Schedule I](course_schedule.py)\n",
    "  \n",
    "### [ ] [Validate Binary Search Tree.py](validate_binary_search_tree.py)\n",
    "  - Determine if binary tree is a valid Binary Search Tree (BST).\n",
    "  \n",
    "### [ ] [Vertical Traversal](vertical_traversal.py)\n",
    "  - Get the binary tree values in the 'vertical' order, from left to right.\n",
    "  \n",
    "### [ ] [Zipzag Level Traversal](zipzag_level_traversal.py)\n",
    "  - Given a binary tree, return the zigzag level order traversal of its nodes' values. \n",
    "    (ie, from left to right, then right to left for the next level and alternate between).\n",
    "  - See Also: [level_order_traversal.py](level_order_traversal.py)"
   ]
  },
  {
   "cell_type": "markdown",
   "id": "09905d26-db2f-404e-9d92-b54999376ab3",
   "metadata": {},
   "source": [
    "## Hard\n",
    "\n",
    "### [x] [Alien Dictionary](alien_dictionary.ipynb) *\n",
    "  - Given a sorted dictionary of an alien language, find order of characters in the language.\n",
    "  - Category: topological sorting.\n",
    "  - See Also: [course_schedule.py](course_schedule.py) and [Topological Sort](topological_sort.py)\n",
    "  \n",
    "### [ ] [Cut off Trees](cut_off_trees.py)\n",
    "  - Given a forest (2D array) of trees of different heights, find the number of steps\n",
    "    to cut them according to their height order.  \n",
    "  - Note: Not a \"green\" problem. \n",
    "   \n",
    "### [x]  [Max Path Sum in a Binary Tree](max_path_sum.ipynb) *\n",
    "  - Find the maximum path sum in a binary tree.\n",
    "  - Category: DFS\n",
    "  - See Also: [Odd Network](odd_network.ipynb)\n",
    "  \n",
    "### [x] [Odd Network](odd_network.ipynb) *\n",
    "  - Number of odd-link connections in network (tree).  \n",
    "  - See Also: [Max Path Sum in a Binary Tree](max_path_sum.ipynb)\n",
    "  \n",
    "### [x] [Shortest Distance from all Buildings](shortest_distance_from_all_buildings.ipynb)\n",
    "  - Find the shortest total distance to all buildings in a grid.\n",
    "  - Category: DFS\n",
    "  - Category: BFS\n",
    "   \n",
    "### [x] [Word Ladder](word_ladder.ipynb) *\n",
    "  - Given two words (beginWord and endWord), and a dictionary's word list, find the\n",
    "    length of shortest transformation sequence from beginWord to endWord, such that\n",
    "    only one letter can be changed at a time.  Return length of the ladder.\n",
    "  - Categories: Pattern Index, BFS, Bi-BFS.\n",
    "  "
   ]
  },
  {
   "cell_type": "markdown",
   "id": "e126dbb6-4d0d-43d1-858b-703704d8eb2d",
   "metadata": {},
   "source": [
    "##  Utilities\n",
    "\n",
    "+ [shared_utils.py](shared_utils.py)\n",
    "  - class: TreeNode\n",
    "  - functions: make_tree, tree_to_list, ...\n"
   ]
  },
  {
   "cell_type": "markdown",
   "id": "0cec89e2-927e-4fdb-81d3-48def0485205",
   "metadata": {},
   "source": [
    "# Sandbox"
   ]
  },
  {
   "cell_type": "code",
   "execution_count": null,
   "id": "b66cc04f-7971-473f-bd2a-61125e638534",
   "metadata": {},
   "outputs": [],
   "source": []
  }
 ],
 "metadata": {
  "kernelspec": {
   "display_name": "Python 3 (ipykernel)",
   "language": "python",
   "name": "python3"
  },
  "language_info": {
   "codemirror_mode": {
    "name": "ipython",
    "version": 3
   },
   "file_extension": ".py",
   "mimetype": "text/x-python",
   "name": "python",
   "nbconvert_exporter": "python",
   "pygments_lexer": "ipython3",
   "version": "3.10.6"
  }
 },
 "nbformat": 4,
 "nbformat_minor": 5
}
