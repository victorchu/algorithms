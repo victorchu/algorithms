{
 "cells": [
  {
   "cell_type": "markdown",
   "id": "812c7afc-ae3b-4070-969c-e180cd663935",
   "metadata": {},
   "source": [
    "# Arrays"
   ]
  },
  {
   "cell_type": "markdown",
   "id": "db65e9f7-1344-4ba6-88fa-dc91891a6ef4",
   "metadata": {},
   "source": [
    "## Easy\n",
    "\n",
    "+ [missing_number.py](missing_number.py)\n",
    "  - Given an array containing n distinct numbers taken from 0, 1, 2, ..., n,\n",
    "    fid the one that is missing from the array.\n",
    "    \n",
    ">\n",
    "+ [move_zeros.py](move_zeros.py) [x]\n",
    "  - Given an array nums, write a function to move all 0's to the end of it \n",
    "    while maintaining the relative order of the non-zero elements.\n",
    "    \n",
    ">\n",
    "+ [remove_duplicates_from_sorted_arraypy](remove_duplicates_from_sorted_array.py)\n",
    "  - Given a sorted array nums, remove the duplicates in-place such that\n",
    "    each element appear only once and return the new length.\n",
    "    \n",
    ">\n",
    "+ [rotate_array.py](rotate_array.py)\n",
    "  - Right-rotate an array by k steps.\n",
    "    \n",
    ">\n",
    "+ [subarray_sum.py](subarray_sum.py)\n",
    "  - Find a continuous sub-array that adds to a given number.\n",
    "    \n",
    ">\n",
    "+ [two_sum.py](two_sum.ipynb) *\n",
    "  - Given an array of integers, return indices of the two numbers such that they add up to a specific target.\n",
    "  - See Also: [three_sum.py](three_sum.py), [two_sum_ii.py](../sorting_and_search/two_sum_ii.py)\n",
    "\n",
    "    \n",
    ">\n",
    "+ [two_sum_sorted_arrays.py](two_sum_sorted_arrays.py)\n",
    "  - Given a sorted array of integers, find two numbers that add up to a specific target number.\n",
    "  - See Also: [two_sum.py](two_sum.py), [three_sum.py](three_sum.py)"
   ]
  },
  {
   "cell_type": "markdown",
   "id": "2d1d73d5-7140-4abb-967a-f7eaed3d53cf",
   "metadata": {},
   "source": [
    "## Medium\n",
    "\n",
    "+ [container_with_most_water.py](container_with_most_water.py)\n",
    "  - Given a non-negative integer array [a0, a1, a2, ...],\n",
    "    find the max rectangular area in (i, 0), (i, ai), (j, 0), and (j, aj).\n",
    "       \n",
    ">\n",
    "+ [merge_k_sorted_arrays.py](merge_k_sorted_arrays.py) [M]\n",
    "  - Merged K sorted arrays.\n",
    "  \n",
    ">\n",
    "+ [product_except_self.py](product_except_self.py)\n",
    "  - Given an array nums of n integers where n > 1,  return an array output such that\n",
    "    output[i] is equal to the product of all the elements of nums except nums[i].\n",
    "    \n",
    ">\n",
    "+ [rotate_image.py](rotate_image.py)\n",
    "  - Rotate the image (n x n 2D matrix) by 90 degrees (clockwise).\n",
    "  \n",
    ">\n",
    "+ [three_sum.py](three_sum.py) *\n",
    "  - Given an array integers, find there elements a, b, c such that a + b + c = 0\n",
    "  - See Also: [two_sum.py](two_sum.py), [three_sum_closest.py](three_sum_closest.py)\n",
    "  \n",
    ">\n",
    "+ [three_sum_closest.py](three_sum_closest.py)\n",
    "  - Given an array of integers and a target, find three elements a, b, c\n",
    "    so that |a + b + c - target| is minimized.\n",
    "  - See Also: [three_sum.py](three_sum.py)"
   ]
  },
  {
   "cell_type": "markdown",
   "id": "02317dc3-42c0-4927-8525-07ad4ada001c",
   "metadata": {},
   "source": [
    "## Hard\n",
    "\n",
    "+ [Trapping Rain Water](trapping_rain_water.py)\n",
    "  - Given n non-negative integers representing an elevation map where the width of\n",
    "    each bar is 1, compute how much water it is able to trap after raining.\n",
    "  - Categories: Trciky, but not difficult.\n"
   ]
  },
  {
   "cell_type": "markdown",
   "id": "73492ac0-bb6a-426e-8e02-fbeb27f5677b",
   "metadata": {},
   "source": [
    "# Sandbox"
   ]
  },
  {
   "cell_type": "code",
   "execution_count": null,
   "id": "6ce5478c-a1ba-47b7-b98a-62eeb72dfc8b",
   "metadata": {},
   "outputs": [],
   "source": []
  }
 ],
 "metadata": {
  "kernelspec": {
   "display_name": "Python 3 (ipykernel)",
   "language": "python",
   "name": "python3"
  },
  "language_info": {
   "codemirror_mode": {
    "name": "ipython",
    "version": 3
   },
   "file_extension": ".py",
   "mimetype": "text/x-python",
   "name": "python",
   "nbconvert_exporter": "python",
   "pygments_lexer": "ipython3",
   "version": "3.10.6"
  }
 },
 "nbformat": 4,
 "nbformat_minor": 5
}
