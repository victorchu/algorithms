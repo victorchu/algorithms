{
 "cells": [
  {
   "cell_type": "markdown",
   "id": "70a10688-fac3-4929-a9e9-947e23385978",
   "metadata": {},
   "source": [
    "## Linked List\n",
    "\n",
    "Easy\n",
    "\n",
    "+ [merge_two_sorted_lists.py](merge_two_sorted_lists.py)\n",
    "  - Merge two sorted linked lists and return it as a new list.\n",
    "  - The new list should be made by splicing together the nodes of the first two lists.\n",
    "+ [remove_linked_list_elements.py](remove_linked_list_elements.py)\n",
    "  - Remove all elements from a linked list of integers that have value val.\n",
    "+ [reverse_linked_list.py](reverse_linked_list.py):\n",
    "  - Reverse a singly linked list.\n",
    "  - See Also: [reorder_list.py](reorder_list.py)\n",
    "\n",
    "Medium\n",
    "\n",
    "+ [add_two_numbers.py](add_two_numbers.py)\n",
    "  - You are given two non-empty linked lists representing two non-negative integers.\n",
    "    The digits are stored in reverse order and each of their nodes contain a single digit.\n",
    "  - Add the two numbers and return it as a linked list.\n",
    "+ [copy_list_with_random_pointer.py](copy_list_with_random_pointer.py)\n",
    "  - A linked list is given such that each node contains an additional random pointer\n",
    "    which could point to any node in the list or null.\n",
    "  - Return a deep copy of the list.\n",
    "+ [reorder_list.py](reorder_list.py)\n",
    "  - Given a singly linked list L0 -> L1 -> ... -> Ln\n",
    "  - Reorder it to L0 -> Ln -> L1 -> Ln-1 -> ...\n",
    "  - See Also: [reverse_linked_list.py](reverse_linked_list.py)\n",
    "\n",
    "Hard\n",
    "+ [reverse_k_group.py](reverse_k_group.py)\n",
    "  - Given a linked list, reverse the nodes of a linked list k at a time.\n",
    "  - Study [reverse_linked_list.py](reverse_linked_list.py) first.\n",
    "\n",
    "\n",
    "Utiliites\n",
    "\n",
    "+ [linked_list_utils.py](linked_list_utils.py)\n",
    "  - Shared linked-list utilities.\n",
    "\n",
    "\n"
   ]
  },
  {
   "cell_type": "markdown",
   "id": "45d2430b-8a6b-49ac-af93-ad2b7e69387b",
   "metadata": {},
   "source": [
    "# Easy"
   ]
  },
  {
   "cell_type": "markdown",
   "id": "caabdf3a-e459-4bb2-ae5a-e48f9b57895d",
   "metadata": {},
   "source": [
    "## LinkedList Cycle\n",
    "\n",
    "Given the head of a Singly LinkedList, write a function to determine if the\n",
    "LinkedList has a cycle in it or not.\n",
    "\n",
    "Pattern: Fast & Slow pointers."
   ]
  },
  {
   "cell_type": "code",
   "execution_count": 3,
   "id": "44a2328c-d6a5-4c66-9692-b1600f88c607",
   "metadata": {},
   "outputs": [
    {
     "name": "stdout",
     "output_type": "stream",
     "text": [
      "LinkedList has cycle: False\n",
      "LinkedList has cycle: True\n",
      "LinkedList has cycle: True\n"
     ]
    }
   ],
   "source": [
    "class Node:\n",
    "    def __init__(self, value, next=None):\n",
    "        self.value = value\n",
    "        self.next = next\n",
    "\n",
    "\n",
    "def has_cycle(head):\n",
    "    slow, fast = head, head\n",
    "    while fast is not None and fast.next is not None:\n",
    "        fast = fast.next.next\n",
    "        slow = slow.next\n",
    "        if slow == fast:\n",
    "            return True  # found the cycle\n",
    "    return False\n",
    "\n",
    "\n",
    "def main():\n",
    "    head = Node(1)\n",
    "    head.next = Node(2)\n",
    "    head.next.next = Node(3)\n",
    "    head.next.next.next = Node(4)\n",
    "    head.next.next.next.next = Node(5)\n",
    "    head.next.next.next.next.next = Node(6)\n",
    "    print(\"LinkedList has cycle: \" + str(has_cycle(head)))\n",
    "    head.next.next.next.next.next.next = head.next.next\n",
    "    print(\"LinkedList has cycle: \" + str(has_cycle(head)))\n",
    "    head.next.next.next.next.next.next = head.next.next.next\n",
    "    print(\"LinkedList has cycle: \" + str(has_cycle(head)))\n",
    "\n",
    "\n",
    "main()"
   ]
  },
  {
   "cell_type": "markdown",
   "id": "b9e5403d-5b07-4418-8332-1f8168fccaf7",
   "metadata": {},
   "source": [
    "# Medium"
   ]
  },
  {
   "cell_type": "code",
   "execution_count": null,
   "id": "a34816bc-6ff6-478f-908f-27ab0bde138d",
   "metadata": {},
   "outputs": [],
   "source": []
  },
  {
   "cell_type": "code",
   "execution_count": null,
   "id": "f8523eaf-2f0a-40e1-b42b-86fc3ebd1b9b",
   "metadata": {},
   "outputs": [],
   "source": []
  },
  {
   "cell_type": "markdown",
   "id": "13064f0d-d71f-4caa-9a3d-6239d3b1b5b3",
   "metadata": {},
   "source": [
    "# Hard"
   ]
  },
  {
   "cell_type": "code",
   "execution_count": null,
   "id": "e5329362-cb66-4910-ae47-cdacf6f19ae7",
   "metadata": {},
   "outputs": [],
   "source": []
  },
  {
   "cell_type": "code",
   "execution_count": null,
   "id": "c6d45bf2-fa79-4d06-bda9-70550a968f0a",
   "metadata": {},
   "outputs": [],
   "source": []
  }
 ],
 "metadata": {
  "kernelspec": {
   "display_name": "Python 3 (ipykernel)",
   "language": "python",
   "name": "python3"
  },
  "language_info": {
   "codemirror_mode": {
    "name": "ipython",
    "version": 3
   },
   "file_extension": ".py",
   "mimetype": "text/x-python",
   "name": "python",
   "nbconvert_exporter": "python",
   "pygments_lexer": "ipython3",
   "version": "3.10.4"
  }
 },
 "nbformat": 4,
 "nbformat_minor": 5
}
