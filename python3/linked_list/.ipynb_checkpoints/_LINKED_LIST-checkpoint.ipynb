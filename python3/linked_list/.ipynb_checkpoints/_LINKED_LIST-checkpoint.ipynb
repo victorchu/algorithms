{
 "cells": [
  {
   "cell_type": "markdown",
   "id": "70a10688-fac3-4929-a9e9-947e23385978",
   "metadata": {},
   "source": [
    "# Linked List\n",
    "\n",
    "### Easy\n",
    "\n",
    "+ [merge_two_sorted_lists.py](merge_two_sorted_lists.py)\n",
    "  - Merge two sorted linked lists and return it as a new list.\n",
    "  - The new list should be made by splicing together the nodes of the first two lists.\n",
    "  - See Also:  [merge_k_sorted_lists.py](merge_k_sorted_lists.py)\n",
    "  \n",
    ">\n",
    "+ [remove_linked_list_elements.py](remove_linked_list_elements.py)\n",
    "  - Remove all elements from a linked list of integers that have value val.\n",
    "  \n",
    ">\n",
    "+ [reverse_linked_list.py](reverse_linked_list.py):\n",
    "  - Reverse a singly linked list.\n",
    "  - See Also: [reorder_list.py](reorder_list.py)\n",
    "\n",
    "### Medium\n",
    "\n",
    "+ [add_two_numbers.py](add_two_numbers.py)\n",
    "  - You are given two non-empty linked lists representing two non-negative integers.\n",
    "    The digits are stored in reverse order and each of their nodes contain a single digit.\n",
    "  - Add the two numbers and return it as a linked list.\n",
    "  \n",
    ">\n",
    "+ [copy_list_with_random_pointer.py](copy_list_with_random_pointer.py)\n",
    "  - A linked list is given such that each node contains an additional random pointer\n",
    "    which could point to any node in the list or null.\n",
    "  - Return a deep copy of the list.\n",
    "  \n",
    ">\n",
    "+ [reorder_list.py](reorder_list.py)\n",
    "  - Given a singly linked list L0 -> L1 -> ... -> Ln\n",
    "  - Reorder it to L0 -> Ln -> L1 -> Ln-1 -> ...\n",
    "  - See Also: [reverse_linked_list.py](reverse_linked_list.py)\n",
    "\n",
    "### Hard\n",
    ">\n",
    "+ [merge_k_sorted_lists.py](merge_k_sorted_lists.py)\n",
    "  - Merge k sorted linked lists and return it as a new list.\n",
    "  \n",
    ">\n",
    "+ [reverse_k_group.py](reverse_k_group.py)\n",
    "  - Given a linked list, reverse the nodes of a linked list k at a time.\n",
    "  - Study [reverse_linked_list.py](reverse_linked_list.py) first.\n",
    "\n",
    "\n",
    "### Utiliites\n",
    "\n",
    "+ [linked_list_utils.py](linked_list_utils.py)\n",
    "  - Shared linked-list utilities.\n",
    "\n",
    "\n"
   ]
  },
  {
   "cell_type": "code",
   "execution_count": null,
   "id": "e5329362-cb66-4910-ae47-cdacf6f19ae7",
   "metadata": {},
   "outputs": [],
   "source": []
  },
  {
   "cell_type": "markdown",
   "id": "8e60fb76-c559-4b2a-b1f7-fe4b763a75f3",
   "metadata": {},
   "source": [
    "# Sandbox"
   ]
  },
  {
   "cell_type": "code",
   "execution_count": 1,
   "id": "845245eb-1c09-44b0-b3b6-3e4e5f841f74",
   "metadata": {},
   "outputs": [],
   "source": [
    "%load_ext autoreload\n",
    "%autoreload 2"
   ]
  },
  {
   "cell_type": "code",
   "execution_count": 27,
   "id": "2433f1c7-ca75-4e58-b7b2-c399ab46d22f",
   "metadata": {},
   "outputs": [],
   "source": [
    "from linked_list_utils import *\n",
    "\n",
    "\n"
   ]
  },
  {
   "cell_type": "code",
   "execution_count": null,
   "id": "2e94fe74-25d1-49e5-97db-53c1b88714ca",
   "metadata": {},
   "outputs": [],
   "source": []
  },
  {
   "cell_type": "code",
   "execution_count": null,
   "id": "e4eeeea9-5e16-4eae-b261-eb7906c7668b",
   "metadata": {},
   "outputs": [],
   "source": []
  }
 ],
 "metadata": {
  "kernelspec": {
   "display_name": "Python 3 (ipykernel)",
   "language": "python",
   "name": "python3"
  },
  "language_info": {
   "codemirror_mode": {
    "name": "ipython",
    "version": 3
   },
   "file_extension": ".py",
   "mimetype": "text/x-python",
   "name": "python",
   "nbconvert_exporter": "python",
   "pygments_lexer": "ipython3",
   "version": "3.10.6"
  }
 },
 "nbformat": 4,
 "nbformat_minor": 5
}
