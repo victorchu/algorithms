{
 "cells": [
  {
   "cell_type": "markdown",
   "id": "c7cd1d30-6381-4666-8d81-6b363341702c",
   "metadata": {},
   "source": [
    "# Sorting and Searching\n",
    "\n",
    "## Easy\n",
    "\n",
    "+ [binary_search.py](binary_search.py) (*)\n",
    "  - Find the target in a sorted integer array.\n",
    "  - V: It takes some thinking to make the code compact and elegant.\n",
    "  - V: try recurssion & loop.\n",
    "  \n",
    "\n",
    "\n",
    "## Medium\n",
    "\n",
    "+ [Find first and last positions of a target](find-first-and-last-position-of-element-in-sorted-array.py)\n",
    "  - In a sorted array of numbers. Find the start and end positions of a target.\n",
    "  \n",
    ">\n",
    "+ [K-th Closest point to origin](k_closest_points.py)\n",
    "  - We have a list of points on the plane.  Find the K closest points to the origin (0, 0).\n",
    "  \n",
    ">\n",
    "+ [K-th largest](kth_largest.py) (*)\n",
    "  - Find the kth largest element in an unsorted array.\n",
    "  \n",
    ">\n",
    "+ [merge_intervals.py](merge_intervals.py)\n",
    "  - Given a collection of intervals, merge all overlapping intervals.\n",
    "  \n",
    "\n",
    ">\n",
    "+ [Meeting Rooms](meeting_rooms_ii.py) *\n",
    "  - Given an array of meeting time intervals, find the minimum number of conference rooms required.\n",
    "  \n",
    ">\n",
    "+ [search_rotated_sorted_array.py](search_rotated_sorted_array.py) *\n",
    "  - Search a value in a rotated sorted array.\n",
    "  \n",
    ">\n",
    "+ [sort_colors.py](sort_colors.py)\n",
    "  - Sort an array with values in 0, 1, 2, representing red, green, blue.\n",
    "  \n",
    ">\n",
    "+ [top_k_frequent.py](top_k_frequent.py)\n",
    "  - Given a non-empty array of integers, return the k most frequent elements.\n",
    "\n",
    "## Hard\n",
    "\n",
    "+ [median_two_sorted_arrays.py](median_two_sorted_arrays.py)\n",
    "  - Find the median of the two sorted arrays.\n",
    "\n"
   ]
  },
  {
   "cell_type": "markdown",
   "id": "c6919c9e-1268-4a06-9930-1d78ace19dc5",
   "metadata": {},
   "source": [
    "# Sandbox"
   ]
  },
  {
   "cell_type": "markdown",
   "id": "886aa375-0107-4aac-be2b-5edb2452ddb1",
   "metadata": {},
   "source": [
    "##  [Find First and Last Positions of a Target](find-first-and-last-position-of-element-in-sorted-array.py)"
   ]
  },
  {
   "cell_type": "code",
   "execution_count": 38,
   "id": "b6788e29-717e-4b15-9aa2-aaf2a79da545",
   "metadata": {},
   "outputs": [
    {
     "name": "stdout",
     "output_type": "stream",
     "text": [
      "# Input: nums=[5, 7, 7, 8, 8, 10], target=8, ans=[3, 4]\n",
      "  - Output v1: [3, 4]\n",
      "# Input: nums=[5, 7, 7, 8, 8, 10], target=6, ans=[-1, -1]\n",
      "  - Output v1: [-1, -1]\n",
      "# Input: nums=[5, 7, 7, 8, 8, 10], target=10, ans=[5, 5]\n",
      "  - Output v1: [5, 5]\n",
      "# Input: nums=[], target=0, ans=[-1, -1]\n",
      "  - Output v1: [-1, -1]\n"
     ]
    }
   ],
   "source": [
    "from typing import List\n",
    "\n",
    "class Solution:\n",
    "    def searchRange_v1(self, nums: List[int], target: int) -> List[int]:\n",
    "        def helper(nums, target, L, R, ans):\n",
    "            if L > R:\n",
    "                return            \n",
    "            m = (L + R) // 2\n",
    "            x = nums[m]\n",
    "            if x == target:\n",
    "                if (m < ans[0]) or (ans[0] < 0):\n",
    "                    ans[0] = m\n",
    "                if (m > ans[1]):\n",
    "                    ans[1] = m\n",
    "            if x >= target:\n",
    "                helper(nums, target, L, m-1, ans)\n",
    "            if x <= target:\n",
    "                helper(nums, target, m+1, R, ans)\n",
    "                \n",
    "        ans = [-1, -1]\n",
    "        helper(nums, target, 0, len(nums)-1, ans)\n",
    "        return ans\n",
    "        \n",
    "def main():\n",
    "    test_data = [\n",
    "        [[5,7,7,8,8,10], 8, [3,4]],   # [3, 4]\n",
    "        [[5,7,7,8,8,10], 6, [-1,-1]], # [-1, -1]\n",
    "        [[5,7,7,8,8,10], 10, [5,5]],  # [5, 5]\n",
    "        [[], 0, [-1,-1]],             # [-1, -1]\n",
    "    ]\n",
    "\n",
    "    ob1 = Solution()\n",
    "    for nums, target, ans in test_data:\n",
    "        print(f\"# Input: nums={nums}, target={target}, ans={ans}\")\n",
    "        print(f\"  - Output v1: {ob1.searchRange_v1(nums, target)}\")\n",
    "\n",
    "main()"
   ]
  },
  {
   "cell_type": "markdown",
   "id": "8cbef5e8-618e-44b0-8d7c-c2e8d0006bc8",
   "metadata": {},
   "source": [
    "## [Merge Intervals](merge_intervals.py)\n",
    "Given a collection of intervals, merge all overlapping intervals."
   ]
  },
  {
   "cell_type": "code",
   "execution_count": 55,
   "id": "48643065-2e03-4c12-a32f-97154388ca14",
   "metadata": {},
   "outputs": [
    {
     "name": "stdout",
     "output_type": "stream",
     "text": [
      "# Input  : [[1, 3], [8, 10], [2, 6], [15, 18], [2, 4], [9, 11]]\n",
      " - sorted: [[1, 3], [2, 4], [2, 6], [8, 10], [9, 11], [15, 18]]\n",
      " - Output v1: [[1, 6], [8, 11], [15, 18]]\n",
      "\n",
      "# Input  : [[1, 4], [4, 5]]\n",
      " - sorted: [[1, 4], [4, 5]]\n",
      " - Output v1: [[1, 5]]\n",
      "\n",
      "# Input  : [[1, 4], [2, 3]]\n",
      " - sorted: [[1, 4], [2, 3]]\n",
      " - Output v1: [[1, 4]]\n",
      "\n",
      "# Input  : [[2, 3]]\n",
      " - sorted: [[2, 3]]\n",
      " - Output v1: [[2, 3]]\n",
      "\n",
      "# Input  : []\n",
      " - Output v1: []\n",
      "\n"
     ]
    }
   ],
   "source": [
    "from typing import List\n",
    "\n",
    "class Solution:\n",
    "    def merge_v1(self, intervals: List[List[int]]) -> List[List[int]]:\n",
    "        \"\"\"Sort by 1st values of intervals. \n",
    "            Compute: O(N log N) + O(N).  Storage: O(N)\n",
    "        \"\"\"\n",
    "        if not intervals:\n",
    "            return []\n",
    "        \n",
    "        intervals.sort()  # By default it uses the first value to sort\n",
    "        print(f\" - sorted: {intervals}\")\n",
    "        ans = []\n",
    "        it = iter(intervals)\n",
    "        x = next(it)\n",
    "        for y in it:\n",
    "            # check if intervals i & j overlap\n",
    "            if y[0] <= x[1]:\n",
    "                x[1] = max(x[1], y[1])\n",
    "            else:\n",
    "                ans.append(x)\n",
    "                x = y\n",
    "        ans.append(x)\n",
    "        return ans\n",
    "        \n",
    "def main():\n",
    "    test_data = [\n",
    "        [[1, 3], [8, 10], [2, 6], [15, 18], [2, 4], [9, 11]],\n",
    "        [[1, 4], [4, 5]],\n",
    "        [[1, 4], [2, 3]],\n",
    "        [[2, 3]],\n",
    "        [],\n",
    "    ]\n",
    "\n",
    "    ob1 = Solution()\n",
    "    for intervals in test_data:\n",
    "        print(f\"# Input  : {intervals}\")\n",
    "        print(f\" - Output v1: {ob1.merge_v1(intervals)}\")\n",
    "        # print(\" - Output v2: {}\".format(ob1.merge_v2(intervals)))\n",
    "        print()\n",
    "\n",
    "main()"
   ]
  }
 ],
 "metadata": {
  "kernelspec": {
   "display_name": "Python 3 (ipykernel)",
   "language": "python",
   "name": "python3"
  },
  "language_info": {
   "codemirror_mode": {
    "name": "ipython",
    "version": 3
   },
   "file_extension": ".py",
   "mimetype": "text/x-python",
   "name": "python",
   "nbconvert_exporter": "python",
   "pygments_lexer": "ipython3",
   "version": "3.10.6"
  }
 },
 "nbformat": 4,
 "nbformat_minor": 5
}
