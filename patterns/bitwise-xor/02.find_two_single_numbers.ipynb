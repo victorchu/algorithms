{
 "cells": [
  {
   "cell_type": "markdown",
   "id": "cedc34e6-e1ef-4d45-85af-5572844f93dd",
   "metadata": {},
   "source": [
    "# Find two Single numbers\n",
    "\n",
    "In a non-empty array of numbers, every number appears exactly twice except two numbers that appear only once.\n",
    "Find the two numbers that appear only once.\n",
    "\n",
    "```\n",
    "Example 1:\n",
    "Input: [1,  4,  2,  1,  3,  5,  6,  2,  3,  5]\n",
    "Output: [4, 6]\n",
    "\n",
    "Example 2:\n",
    "Input: [2, 1, 3, 2]\n",
    "Output: [1, 3]\n",
    "```\n"
   ]
  },
  {
   "cell_type": "code",
   "execution_count": 6,
   "id": "2a186dab-3e30-4ab7-af61-04d994c38a52",
   "metadata": {},
   "outputs": [
    {
     "name": "stdout",
     "output_type": "stream",
     "text": [
      "Input = [1, 4, 2, 1, 3, 5, 6, 2, 3, 5]\n",
      "  Single numbers are: [6, 4]\n",
      "Input = [2, 1, 3, 2]\n",
      "  Single numbers are: [3, 1]\n"
     ]
    }
   ],
   "source": [
    "def find_single_numbers(nums):\n",
    "    \"\"\"\n",
    "    Tricky\n",
    "      - XOR all numbers to get n1xn2\n",
    "      - Find out a bit that is one (which differentiates n1 & n2)\n",
    "      - Use this big to break the inputs into two parts: with or without that bit.\n",
    "      - Get XOR of each part; this will give us two numbers.!\n",
    "    \"\"\"\n",
    "    # get the XOR of the all the numbers\n",
    "    n1xn2 = 0\n",
    "    for num in nums:\n",
    "        n1xn2 ^= num\n",
    "\n",
    "    # get the rightmost bit that is '1'\n",
    "    rightmost_set_bit = 1\n",
    "    while (rightmost_set_bit & n1xn2) == 0:\n",
    "        rightmost_set_bit <<= 1\n",
    "\n",
    "    if not rightmost_set_bit:\n",
    "        raise Exception(\"This shall not happen\")\n",
    "\n",
    "    num1, num2 = 0, 0\n",
    "    for num in nums:\n",
    "        if (num & rightmost_set_bit) != 0:  # the bit is set\n",
    "            num1 ^= num\n",
    "        else:  # the bit is not set\n",
    "            num2 ^= num\n",
    "    return [num1, num2]\n",
    "\n",
    "\n",
    "def main():\n",
    "    test_data = [\n",
    "        [1, 4, 2, 1, 3, 5, 6, 2, 3, 5],\n",
    "        [2, 1, 3, 2]\n",
    "    ]\n",
    "    for nums in test_data:\n",
    "        print(f\"Input = {nums}\")\n",
    "        print(f\"  Single numbers are: {find_single_numbers(nums)}\")\n",
    "\n",
    "\n",
    "main()"
   ]
  }
 ],
 "metadata": {
  "kernelspec": {
   "display_name": "Python 3 (ipykernel)",
   "language": "python",
   "name": "python3"
  },
  "language_info": {
   "codemirror_mode": {
    "name": "ipython",
    "version": 3
   },
   "file_extension": ".py",
   "mimetype": "text/x-python",
   "name": "python",
   "nbconvert_exporter": "python",
   "pygments_lexer": "ipython3",
   "version": "3.10.6"
  }
 },
 "nbformat": 4,
 "nbformat_minor": 5
}
