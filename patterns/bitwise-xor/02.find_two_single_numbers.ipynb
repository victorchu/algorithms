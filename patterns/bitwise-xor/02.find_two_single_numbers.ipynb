{
 "cells": [
  {
   "cell_type": "markdown",
   "id": "cedc34e6-e1ef-4d45-85af-5572844f93dd",
   "metadata": {},
   "source": [
    "# Find two Single numbers\n",
    "\n",
    "In a non-empty array of numbers, every number appears exactly twice except two numbers that appear only once.\n",
    "Find the two numbers that appear only once.\n",
    "\n",
    "```\n",
    "Example 1:\n",
    "Input: [1,  4,  2,  1,  3,  5,  6,  2,  3,  5]\n",
    "Output: [4, 6]\n",
    "\n",
    "Example 2:\n",
    "Input: [2, 1, 3, 2]\n",
    "Output: [1, 3]\n",
    "```\n"
   ]
  },
  {
   "cell_type": "code",
   "execution_count": 1,
   "id": "2a186dab-3e30-4ab7-af61-04d994c38a52",
   "metadata": {},
   "outputs": [
    {
     "name": "stdout",
     "output_type": "stream",
     "text": [
      "\n",
      "# Input = [1, 4, 2, 1, 3, 5, 6, 2, 3, 5] ---> ans = (4, 6)\n",
      "[DEBUG] n1 ^ n2 = 2 (00000010)\n",
      "[DEBUG] distinguish bit = 2 (00000010)\n",
      "[DEBUG] num1 = 6 (00000110)\n",
      "[DEBUG] num2 = 4 (00000100)\n",
      "  Output v1: [4, 6]\n",
      "[DEBUG] distinguish bit = 2 (00000010)\n",
      "[DEBUG] num1 = 6 (00000110)\n",
      "[DEBUG] num2 = 4 (00000100)\n",
      "  Output v2: [4, 6]\n",
      "\n",
      "# Input = [2, 5, 9, 2, 3, 3] ---> ans = (5, 9)\n",
      "[DEBUG] n1 ^ n2 = 12 (00001100)\n",
      "[DEBUG] distinguish bit = 4 (00000100)\n",
      "[DEBUG] num1 = 5 (00000101)\n",
      "[DEBUG] num2 = 9 (00001001)\n",
      "  Output v1: [5, 9]\n",
      "[DEBUG] distinguish bit = 4 (00000100)\n",
      "[DEBUG] num1 = 5 (00000101)\n",
      "[DEBUG] num2 = 9 (00001001)\n",
      "  Output v2: [5, 9]\n"
     ]
    }
   ],
   "source": [
    "from typing import List\n",
    "\n",
    "\n",
    "class Solution:\n",
    "\n",
    "    def find_two_single_numbers_v1(self, nums: List[int]) -> List[int]:\n",
    "        \"\"\"Very Tricky. Need to think deeply into the binary form of numbers.\n",
    "\n",
    "        Logic:\n",
    "          - XOR all numbers to get n1^n2 (which cannot be zero).\n",
    "          - Find out a \"distinguish bit\" in n1^n2. This bit distinguish n1 from n2.\n",
    "            One of them must have 1 on for that position and the other has 0.\n",
    "          - Use this distinguish bit to break the inputs into two parts: with or without that bit.\n",
    "            Every duplicate number will be in one of these two parts.\n",
    "          - Get XOR of each part; this will give us two numbers!\n",
    "\n",
    "        XOR basic:\n",
    "          1 ^ 0 = 1\n",
    "          0 ^ 1 = 1\n",
    "          1 ^ 1 = 0\n",
    "          0 ^ 0 = 0\n",
    "        \n",
    "        \"\"\"\n",
    "        # get the XOR of the all the numbers\n",
    "        n1_xor_n2 = 0\n",
    "        for num in nums:\n",
    "            n1_xor_n2 ^= num\n",
    "        \n",
    "        print(f\"[DEBUG] n1 ^ n2 = {n1_xor_n2} ({n1_xor_n2:08b})\")\n",
    "\n",
    "        # get the rightmost bit that is '1'\n",
    "        distinguish_bit = 1\n",
    "        while (distinguish_bit & n1_xor_n2) == 0:\n",
    "            distinguish_bit <<= 1\n",
    "        print(f\"[DEBUG] distinguish bit = {distinguish_bit} ({distinguish_bit:08b})\")\n",
    "\n",
    "        if not distinguish_bit:\n",
    "            raise Exception(\"This shall not happen\")\n",
    "\n",
    "        n1, n2 = 0, 0\n",
    "        for n in nums:\n",
    "            if (n & distinguish_bit) != 0:  # the bit is present\n",
    "                n1 ^= n\n",
    "            else:  # the bit is not present\n",
    "                n2 ^= n\n",
    "\n",
    "        print(f\"[DEBUG] num1 = {n1} ({n1:08b})\")\n",
    "        print(f\"[DEBUG] num2 = {n2} ({n2:08b})\")\n",
    "        return [n1, n2] if (n1 < n2) else [n2, n1]\n",
    "\n",
    "    def find_two_single_numbers_v2(self, nums: List[int]) -> List[int]:\n",
    "        \"\"\"Use a different way to find the distinguish bit.\n",
    "\n",
    "        Key formula: \n",
    "           distinguish bit = x ^ (-x)\n",
    "        \n",
    "        Example:\n",
    "                       x = 0000 1100\n",
    "          1's compliment = 1111 0011 \n",
    "                       +           1\n",
    "                         ------------\n",
    "                         = 1111 0100 (2's compliment; ie, -x)\n",
    "                       &   0000 1100\n",
    "                         ------------\n",
    "                         = 0000 0100\n",
    "    \n",
    "          Note: -x is the 2's complment of x.\n",
    "        \"\"\"\n",
    "        # XOR the input array\n",
    "        x = 0\n",
    "        for i in nums:\n",
    "            x ^= i\n",
    "        \n",
    "        # Find distinguish bit\n",
    "        distinguish_bit = x & (-x)\n",
    "        print(f\"[DEBUG] distinguish bit = {distinguish_bit} ({distinguish_bit:08b})\")\n",
    "\n",
    "        # Find two single numbers\n",
    "        n1, n2 = 0, 0\n",
    "        for n in nums:\n",
    "            if n & distinguish_bit:\n",
    "                n1 ^= n\n",
    "            else:\n",
    "                n2 ^= n\n",
    "\n",
    "        print(f\"[DEBUG] num1 = {n1} ({n1:08b})\")\n",
    "        print(f\"[DEBUG] num2 = {n2} ({n2:08b})\")\n",
    "        return sorted([n1, n2])\n",
    "\n",
    "def main():\n",
    "    test_data = [\n",
    "        [[1, 4, 2, 1, 3, 5, 6, 2, 3, 5], (4, 6)],\n",
    "        [[2, 5, 9, 2, 3, 3], (5, 9)],\n",
    "    ]\n",
    "    ob1 = Solution()\n",
    "    for nums, ans in test_data:\n",
    "        print(f\"\\n# Input = {nums} ---> ans = {ans}\")\n",
    "        print(f\"  Output v1: {ob1.find_two_single_numbers_v1(nums)}\")\n",
    "        print(f\"  Output v2: {ob1.find_two_single_numbers_v2(nums)}\")\n",
    "\n",
    "\n",
    "main()"
   ]
  },
  {
   "cell_type": "code",
   "execution_count": 2,
   "id": "87729ea4",
   "metadata": {},
   "outputs": [
    {
     "name": "stdout",
     "output_type": "stream",
     "text": [
      "12 0b1100\n",
      "4 0b100\n"
     ]
    }
   ],
   "source": [
    "# Finding the distinguish bit - Method 1: Shifting bits\n",
    "x = 12\n",
    "print(x, bin(x))\n",
    "distinguish_bit = 1\n",
    "while x & distinguish_bit == 0:\n",
    "    distinguish_bit <<= 1\n",
    "\n",
    "print(distinguish_bit, bin(distinguish_bit))\n"
   ]
  },
  {
   "cell_type": "code",
   "execution_count": 3,
   "id": "8aeb7e00",
   "metadata": {},
   "outputs": [
    {
     "name": "stdout",
     "output_type": "stream",
     "text": [
      " 12, 00001100\n",
      "-12, 11110100\n",
      "  4, 00000100\n"
     ]
    }
   ],
   "source": [
    "# Finding the distinguish bit - Method 2: 2's Complement\n",
    "x = 12\n",
    "y = -x\n",
    "print(f\"{x:3d}, {x:08b}\")\n",
    "print(f\"{y:3d}, {y & 0xFF:08b}\")\n",
    "bit = x & y\n",
    "print(f\"{bit:3d}, {bit:08b}\")"
   ]
  },
  {
   "cell_type": "code",
   "execution_count": 4,
   "id": "ba9ee62a",
   "metadata": {},
   "outputs": [
    {
     "name": "stdout",
     "output_type": "stream",
     "text": [
      " 12, 00001100\n",
      "243, 11110011 -- 1's complement\n",
      "244, 11110100 -- 2's complmenet\n",
      " 11, 00001011 -- 1's complmenet of -x\n",
      " 12, 00001100 -- 2's complement of -x\n",
      "  4, 00000100 -- x & -x, only the distinguish bit remains\n"
     ]
    }
   ],
   "source": [
    "#\n",
    "# Understanding binary operations\n",
    "#\n",
    "x = 12\n",
    "print(f\"{x:3d}, {x:08b}\")\n",
    "\n",
    "# 1's complment\n",
    "x2 = 0xFF ^ x\n",
    "print(f\"{x2:3d}, {x2:08b} -- 1's complement\")\n",
    "\n",
    "# 2's complement\n",
    "x3 = x2 + 1\n",
    "print(f\"{x3:3d}, {x3:08b} -- 2's complmenet\")\n",
    "\n",
    "# Negate again\n",
    "x4 = 0xFF ^ x3\n",
    "print(f\"{x4:3d}, {x4:08b} -- 1's complmenet of -x\")\n",
    "\n",
    "x5 = x4 + 1\n",
    "print(f\"{x5:3d}, {x5:08b} -- 2's complement of -x\")\n",
    "\n",
    "# x & -x\n",
    "x6 = x & x3\n",
    "print(f\"{x6:3d}, {x6:08b} -- x & -x, only the distinguish bit remains\")\n"
   ]
  }
 ],
 "metadata": {
  "kernelspec": {
   "display_name": "Python-Algorithms",
   "language": "python",
   "name": "python3"
  },
  "language_info": {
   "codemirror_mode": {
    "name": "ipython",
    "version": 3
   },
   "file_extension": ".py",
   "mimetype": "text/x-python",
   "name": "python",
   "nbconvert_exporter": "python",
   "pygments_lexer": "ipython3",
   "version": "3.12.10"
  }
 },
 "nbformat": 4,
 "nbformat_minor": 5
}
