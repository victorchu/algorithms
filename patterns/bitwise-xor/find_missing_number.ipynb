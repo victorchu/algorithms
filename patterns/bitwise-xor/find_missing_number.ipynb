{
 "cells": [
  {
   "cell_type": "markdown",
   "id": "cc8a00f2-ad14-40e4-b465-dfd7cf4d1f29",
   "metadata": {},
   "source": [
    "# Find Missing Number\n",
    "\n",
    "Given an array of n-1 integers in the range from 1 to n, find the one number that is missing from the array.\n"
   ]
  },
  {
   "cell_type": "code",
   "execution_count": 5,
   "id": "60cf4f58-2ec1-44c3-a796-d939cd73fccd",
   "metadata": {},
   "outputs": [
    {
     "name": "stdout",
     "output_type": "stream",
     "text": [
      "Missing number is: 3\n"
     ]
    }
   ],
   "source": [
    "def find_missing_number(arr):\n",
    "    n = len(arr) + 1\n",
    "\n",
    "    # x1 represents XOR of all values from 1 to n\n",
    "    x1 = 1\n",
    "    for i in range(2, n+1):\n",
    "        x1 ^= i\n",
    "\n",
    "    # x2 represents XOR of all values in arr\n",
    "    x2 = 0\n",
    "    for v in arr:\n",
    "        x2 ^= v\n",
    "\n",
    "    # missing number is the xor of x1 and x2\n",
    "    return x1 ^ x2\n",
    "\n",
    "def main():\n",
    "    arr = [1, 5, 2, 6, 4] \n",
    "    print('Missing number is: ' + str(find_missing_number(arr)))\n",
    "\t\n",
    "main()"
   ]
  },
  {
   "cell_type": "code",
   "execution_count": null,
   "id": "52688bc3-bdc6-4a23-8584-659e79c48882",
   "metadata": {},
   "outputs": [],
   "source": []
  }
 ],
 "metadata": {
  "kernelspec": {
   "display_name": "Python 3 (ipykernel)",
   "language": "python",
   "name": "python3"
  },
  "language_info": {
   "codemirror_mode": {
    "name": "ipython",
    "version": 3
   },
   "file_extension": ".py",
   "mimetype": "text/x-python",
   "name": "python",
   "nbconvert_exporter": "python",
   "pygments_lexer": "ipython3",
   "version": "3.10.6"
  }
 },
 "nbformat": 4,
 "nbformat_minor": 5
}
