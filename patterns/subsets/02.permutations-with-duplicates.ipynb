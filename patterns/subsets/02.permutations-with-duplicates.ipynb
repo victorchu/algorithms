{
 "cells": [
  {
   "cell_type": "markdown",
   "id": "2d7960fc-089f-4591-8ba0-aec78f599f58",
   "metadata": {},
   "source": [
    "# Permutations on an Array"
   ]
  },
  {
   "cell_type": "markdown",
   "id": "4b5ac27d-f640-4f74-9cfb-b9c9a893ad86",
   "metadata": {},
   "source": [
    "---\n",
    "## Version 2 - May have Duplicates\n",
    "\n",
    "Given a collection of numbers that might contain *duplicates*, return all possible *unique* permutations.\n",
    "\n",
    "EXAMPLES:\n",
    "```\n",
    "Input: [1,1,2]\n",
    "Output: [\n",
    "    [1,1,2],\n",
    "    [1,2,1],\n",
    "    [2,1,1]\n",
    "]\n",
    "```\n",
    "\n",
    "NOTE:\n",
    " - Work on the version with distinct integers first.\n",
    " - This one is a small enhancement of the other one.\n",
    "\n",
    "REFERENCE:\n",
    " - https://leetcode.com/problems/permutations-ii/ (Medium)\n",
    " - https://www.geeksforgeeks.org/distinct-permutations-string-set-2/"
   ]
  },
  {
   "cell_type": "code",
   "execution_count": 1,
   "id": "01ccf20a-9c7b-4999-99f9-20da502074fb",
   "metadata": {},
   "outputs": [
    {
     "name": "stdout",
     "output_type": "stream",
     "text": [
      "# Input = [1, 1, 2]\n",
      "  - v1 = [[1, 1, 2], [1, 2, 1], [2, 1, 1]]\n",
      "  - v2 = [[1, 1, 2], [1, 2, 1], [2, 1, 1]]\n",
      "# Input = [3, 3, 0, 3]\n",
      "  - v1 = [[3, 3, 0, 3], [3, 3, 3, 0], [3, 0, 3, 3], [0, 3, 3, 3]]\n",
      "  - v2 = [[3, 3, 0, 3], [3, 3, 3, 0], [3, 0, 3, 3], [0, 3, 3, 3]]\n",
      "# Input = [2, 2, 1, 1]\n",
      "  - v1 = [[2, 2, 1, 1], [2, 1, 1, 2], [2, 1, 2, 1], [1, 1, 2, 2], [1, 2, 2, 1], [1, 2, 1, 2]]\n",
      "  - v2 = [[2, 2, 1, 1], [2, 1, 2, 1], [2, 1, 1, 2], [1, 2, 2, 1], [1, 2, 1, 2], [1, 1, 2, 2]]\n"
     ]
    }
   ],
   "source": [
    "from typing import List\n",
    "\n",
    "\n",
    "class Solution:\n",
    "    def permute_unique_v1(self, nums: List[int]) -> List[List[int]]:\n",
    "        \"\"\"Pop/push and use a set to track visited characters.\"\"\"\n",
    "\n",
    "        def helper(prefix: List[int], remaining_nums: List[int], results: List[list]):\n",
    "            if len(remaining_nums) <= 1:\n",
    "                results.append(prefix + remaining_nums)\n",
    "                return\n",
    "\n",
    "            seen = set()\n",
    "            for _ in range(len(remaining_nums)):\n",
    "                d = remaining_nums.pop(0)\n",
    "                if d not in seen:\n",
    "                    helper(prefix + [d], remaining_nums, results)\n",
    "                    seen.add(d)\n",
    "                remaining_nums.append(d)\n",
    "                    \n",
    "        results = []\n",
    "        if nums:\n",
    "            helper([], nums, results)\n",
    "        return results\n",
    "\n",
    "    def permute_unique_v2(self, nums: List[int]) -> List[List[int]]:\n",
    "        \"\"\"Use swap to save the cost of \"\"\" \n",
    "        def helper(nums, i, results):\n",
    "            n = len(nums)\n",
    "            if i >= n - 1:\n",
    "                results.append(nums.copy())\n",
    "                return\n",
    "            seen = set()\n",
    "            for j in range(i, n):\n",
    "                nums[i], nums[j] = nums[j], nums[i]   # Swap\n",
    "                if nums[i] not in seen:\n",
    "                    helper(nums, i + 1, results)  # Recursion   \n",
    "                seen.add(nums[i])\n",
    "                nums[i], nums[j] = nums[j], nums[i]  # Restore\n",
    "            \n",
    "        results = []\n",
    "        if nums:\n",
    "            helper(nums, 0, results)\n",
    "        return results\n",
    "    \n",
    "\n",
    "def main():\n",
    "    test_data = [\n",
    "        [1, 1, 2],\n",
    "        [3, 3, 0, 3],\n",
    "        [2, 2, 1, 1],\n",
    "    ]\n",
    "\n",
    "    ob1 = Solution()\n",
    "    for nums in test_data:\n",
    "        print(\"# Input = {}\".format(nums))\n",
    "        print(f\"  - v1 = {ob1.permute_unique_v1(nums)}\")\n",
    "        print(f\"  - v2 = {ob1.permute_unique_v2(nums)}\")\n",
    "\n",
    "\n",
    "if __name__ == \"__main__\":\n",
    "    main()\n"
   ]
  },
  {
   "cell_type": "code",
   "execution_count": null,
   "id": "e09960a1-8c1f-4123-b84c-e0d7ede53322",
   "metadata": {},
   "outputs": [],
   "source": []
  }
 ],
 "metadata": {
  "kernelspec": {
   "display_name": "Python-Algorithms",
   "language": "python",
   "name": "python3"
  },
  "language_info": {
   "codemirror_mode": {
    "name": "ipython",
    "version": 3
   },
   "file_extension": ".py",
   "mimetype": "text/x-python",
   "name": "python",
   "nbconvert_exporter": "python",
   "pygments_lexer": "ipython3",
   "version": "3.12.10"
  }
 },
 "nbformat": 4,
 "nbformat_minor": 5
}
