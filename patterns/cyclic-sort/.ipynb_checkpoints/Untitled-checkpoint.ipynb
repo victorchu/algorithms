{
 "cells": [
  {
   "cell_type": "markdown",
   "id": "342e639d-f870-4e6f-a339-e77eca5e761e",
   "metadata": {},
   "source": [
    "# Cyclic Sort (easy)\n",
    "\n",
    "We are given an array containing n objects. Each object, when created, was assigned a unique number from the range 1 to n based on their creation sequence. This means that the object with sequence number 3 was created just before the object with sequence number 4.\n",
    "\n",
    "Write a function to sort the objects in-place on their creation sequence number in O(n)O(n) and without using any extra space. For simplicity, let’s assume we are passed an integer array containing only the sequence numbers, though each number is actually an object.\n",
    "```\n",
    "Example 1:\n",
    "Input: [3, 1, 5, 4, 2]\n",
    "Output: [1, 2, 3, 4, 5]\n",
    "\n",
    "Example 2:\n",
    "Input: [2, 6, 4, 3, 1, 5]\n",
    "Output: [1, 2, 3, 4, 5, 6]\n",
    "\n",
    "Example 3:\n",
    "Input: [1, 5, 6, 4, 3, 2]\n",
    "Output: [1, 2, 3, 4, 5, 6]\n",
    "```"
   ]
  },
  {
   "cell_type": "code",
   "execution_count": 4,
   "id": "fde5a045-224d-47c7-9aaa-ad2f8d34aab0",
   "metadata": {},
   "outputs": [
    {
     "name": "stdout",
     "output_type": "stream",
     "text": [
      "[1, 2, 3, 4, 5]\n",
      "[1, 2, 3, 4, 5, 6]\n",
      "[1, 2, 3, 4, 5, 6]\n"
     ]
    }
   ],
   "source": [
    "class Solution:\n",
    "    def cyclic_sort(self, nums):\n",
    "        i = 0\n",
    "        while i < len(nums):\n",
    "            j = nums[i] - 1\n",
    "            if nums[i] != nums[j]:\n",
    "                nums[i], nums[j] = nums[j], nums[i]  # swap\n",
    "            else:\n",
    "                i += 1\n",
    "        return nums\n",
    "\t\n",
    "def main():\n",
    "    ob1 = Solution()\n",
    "    print(ob1.cyclic_sort([3, 1, 5, 4, 2]))\n",
    "    print(ob1.cyclic_sort([2, 6, 4, 3, 1, 5]))\n",
    "    print(ob1.cyclic_sort([1, 5, 6, 4, 3, 2]))\n",
    "\t\n",
    "main()"
   ]
  }
 ],
 "metadata": {
  "kernelspec": {
   "display_name": "Python 3 (ipykernel)",
   "language": "python",
   "name": "python3"
  },
  "language_info": {
   "codemirror_mode": {
    "name": "ipython",
    "version": 3
   },
   "file_extension": ".py",
   "mimetype": "text/x-python",
   "name": "python",
   "nbconvert_exporter": "python",
   "pygments_lexer": "ipython3",
   "version": "3.10.6"
  }
 },
 "nbformat": 4,
 "nbformat_minor": 5
}
