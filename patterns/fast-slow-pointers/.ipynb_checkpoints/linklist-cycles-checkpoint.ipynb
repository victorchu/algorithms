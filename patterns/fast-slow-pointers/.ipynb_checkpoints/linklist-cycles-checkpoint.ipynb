{
 "cells": [
  {
   "cell_type": "markdown",
   "id": "ba4fe350-828e-42ed-a516-9601755af178",
   "metadata": {},
   "source": [
    "# LinkedList Cycle (easy)\n",
    "\n",
    "Given the head of a Singly LinkedList, write a function to determine if the LinkedList has a cycle in it or not.\n",
    "\n",
    "```\n",
    "Example 1: cycle\n",
    "\n",
    "  head -> [1] -> [2] -> [3] -> [4] -> [5] -> [6]\n",
    "                         ^                    |\n",
    "                         +--------------------+\n",
    "\n",
    "Example 2: no cycle\n",
    "\n",
    "  head -> [2] -> [4] -> [6] -> [8] -> [10] -> [null]\n",
    "```"
   ]
  },
  {
   "cell_type": "code",
   "execution_count": 2,
   "id": "d6fdee50-57cc-4d6e-a820-eb0751f48114",
   "metadata": {},
   "outputs": [
    {
     "name": "stdout",
     "output_type": "stream",
     "text": [
      "LinkedList has cycle: False\n",
      "LinkedList has cycle: True\n",
      "LinkedList has cycle: True\n"
     ]
    }
   ],
   "source": [
    "class Node:\n",
    "    def __init__(self, value, next=None):\n",
    "        self.value = value\n",
    "        self.next = next\n",
    "\n",
    "        \n",
    "def has_cycle(head):\n",
    "    slow, fast = head, head\n",
    "    while fast is not None and fast.next is not None:\n",
    "        fast = fast.next.next\n",
    "        slow = slow.next\n",
    "        if slow == fast:\n",
    "            return True  # found the cycle\n",
    "    return False\n",
    "\n",
    "\n",
    "def main():\n",
    "    head = Node(1)\n",
    "    head.next = Node(2)\n",
    "    head.next.next = Node(3)\n",
    "    head.next.next.next = Node(4)\n",
    "    head.next.next.next.next = Node(5)\n",
    "    head.next.next.next.next.next = Node(6)\n",
    "    print(\"LinkedList has cycle: \" + str(has_cycle(head)))\n",
    "    \n",
    "    head.next.next.next.next.next.next = head.next.next\n",
    "    print(\"LinkedList has cycle: \" + str(has_cycle(head)))\n",
    "    \n",
    "    head.next.next.next.next.next.next = head.next.next.next\n",
    "    print(\"LinkedList has cycle: \" + str(has_cycle(head)))\n",
    "\t\n",
    "\n",
    "main()"
   ]
  },
  {
   "cell_type": "code",
   "execution_count": null,
   "id": "52267f42-d893-4fa3-a143-bae05624bc1a",
   "metadata": {},
   "outputs": [],
   "source": []
  }
 ],
 "metadata": {
  "kernelspec": {
   "display_name": "Python 3 (ipykernel)",
   "language": "python",
   "name": "python3"
  },
  "language_info": {
   "codemirror_mode": {
    "name": "ipython",
    "version": 3
   },
   "file_extension": ".py",
   "mimetype": "text/x-python",
   "name": "python",
   "nbconvert_exporter": "python",
   "pygments_lexer": "ipython3",
   "version": "3.10.6"
  }
 },
 "nbformat": 4,
 "nbformat_minor": 5
}
