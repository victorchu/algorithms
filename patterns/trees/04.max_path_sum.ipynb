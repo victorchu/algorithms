{
 "cells": [
  {
   "cell_type": "markdown",
   "id": "63f07403-6334-4092-b9ac-42abaf75ec1a",
   "metadata": {},
   "source": [
    "# Max Path Sum\n",
    "\n",
    "Given a non-empty binary tree, find the maximum path sum.\n",
    "\n",
    "For this problem, a path is defined as any sequence of nodes from\n",
    "some starting node to any node in the tree along the parent-child\n",
    "connections. The path must contain at least one node and does not\n",
    "need to go through the root.\n",
    "\n",
    "EXAMPLE:\n",
    "\n",
    "```\n",
    "         [1]\n",
    "        /   \\ \n",
    "      [2]   [3]\n",
    "\n",
    "  Input: [1, 2, 3]\n",
    "  Output: 6\n",
    "\n",
    "         [-10] \n",
    "        /    \\ \n",
    "      [9]   [20]\n",
    "           /    \\ \n",
    "         [15]    [7]\n",
    "\n",
    "  Input: [-10, 9, 20, None, None, 15, 7]\n",
    "  Output: 42   # [15]-[20]-[7]\n",
    "```\n",
    "\n",
    "TECHNIQUES:\n",
    "  - Consider all possible combinations.\n",
    "  \n",
    "Note\n",
    "  - This problem is not very hard.  It is just a little bit more tedious than a regular DFS.\n",
    "\n",
    "REFERENCE:\n",
    "  - https://www.geeksforgeeks.org/find-maximum-path-sum-in-a-binary-tree/\n",
    "  - https://leetcode.com/problems/binary-tree-maximum-path-sum/ (Hard)"
   ]
  },
  {
   "cell_type": "code",
   "execution_count": 1,
   "id": "a64434df",
   "metadata": {},
   "outputs": [
    {
     "data": {
      "text/plain": [
       "['../../python3/trees_and_graphs']"
      ]
     },
     "execution_count": 1,
     "metadata": {},
     "output_type": "execute_result"
    }
   ],
   "source": [
    "# Add python3/trees_and_graphs to the system path\n",
    "import sys\n",
    "\n",
    "paths = ['../../python3/trees_and_graphs']\n",
    "\n",
    "for path in paths:\n",
    "    if path not in sys.path:\n",
    "        sys.path.append(path)\n",
    "\n",
    "sys.path[-1:]"
   ]
  },
  {
   "cell_type": "code",
   "execution_count": 2,
   "id": "143a77ac-0fff-4bab-b1ff-ac26356c44f1",
   "metadata": {},
   "outputs": [
    {
     "name": "stdout",
     "output_type": "stream",
     "text": [
      "\n",
      "# Input = [8] (ans=1)\n",
      "  Output v1 = 8\n",
      "\n",
      "# Input = [1, 2, 3] (ans=6)\n",
      "  Output v1 = 6\n",
      "\n",
      "# Input = [-10, 9, 20, None, None, 15, 7] (ans=42)\n",
      "  Output v1 = 42\n",
      "\n",
      "# Input = [2, -1] (ans=2)\n",
      "  Output v1 = 2\n"
     ]
    }
   ],
   "source": [
    "import heapq\n",
    "from typing import List, Tuple\n",
    "from shared_utils import TreeNode, make_tree, tree_to_list\n",
    "\n",
    "\n",
    "class Solution:\n",
    "    def maxPathSum(self, root: TreeNode) -> int:\n",
    "        \n",
    "        def dfs(node: TreeNode,  ans: List) -> int:\n",
    "            \"\"\"Track maximum vertical path sum and horizontical path sum including the node.\n",
    "            \n",
    "            Time Complexity: O(N).  Space Complexity: O(1).\n",
    "            \n",
    "            :param node: the current node\n",
    "            :param ans: the current best answer.\n",
    "            :return: the maximum vertical path sum.\n",
    "            \"\"\"\n",
    "            if node is None:\n",
    "                return 0\n",
    "            \n",
    "            # Get vertical path sums from the left and the right nodes\n",
    "            left_max = dfs(node.left, ans)\n",
    "            right_max = dfs(node.right, ans)\n",
    "\n",
    "            # Vertical max\n",
    "            vertical_max = node.val + max(left_max, right_max, 0)\n",
    "\n",
    "            # Horizontal max\n",
    "            horizontal_max = left_max + node.val + right_max\n",
    "\n",
    "            # Track the current best answer\n",
    "            ans[0] = max(ans[0], vertical_max, horizontal_max)\n",
    "\n",
    "            return vertical_max\n",
    "        \n",
    "        ans = [0]\n",
    "        dfs(root, ans)\n",
    "        return ans[0]\n",
    "\n",
    "\n",
    "def main():\n",
    "    test_data = [\n",
    "        [[8], 1],\n",
    "        [[1, 2, 3], 6],\n",
    "        [[-10, 9, 20, None, None, 15, 7], 42],\n",
    "        [[2, -1], 2],\n",
    "    ]\n",
    "\n",
    "    ob1 = Solution()\n",
    "    for vals, ans in test_data:\n",
    "        root = make_tree(vals)\n",
    "        print(f\"\\n# Input = {vals} (ans={ans})\")\n",
    "        print(f\"  Output v1 = {ob1.maxPathSum(root)}\")\n",
    "\n",
    "\n",
    "if __name__ == \"__main__\":\n",
    "    main()\n"
   ]
  }
 ],
 "metadata": {
  "kernelspec": {
   "display_name": "Python-Algorithms",
   "language": "python",
   "name": "python3"
  },
  "language_info": {
   "codemirror_mode": {
    "name": "ipython",
    "version": 3
   },
   "file_extension": ".py",
   "mimetype": "text/x-python",
   "name": "python",
   "nbconvert_exporter": "python",
   "pygments_lexer": "ipython3",
   "version": "3.12.10"
  }
 },
 "nbformat": 4,
 "nbformat_minor": 5
}
