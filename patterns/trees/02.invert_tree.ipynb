{
 "cells": [
  {
   "cell_type": "markdown",
   "id": "dd570ecb-3635-43f4-b056-51617a3368b3",
   "metadata": {},
   "source": [
    "# Invert a binary tree\n",
    "\n",
    "Invert a binary tree.\n",
    "\n",
    "EXAMPLE:\n",
    "\n",
    "```\n",
    "  Input: root = [4,2,7,1,3,6,9]\n",
    "  \n",
    "             [4]\n",
    "            /   \\\n",
    "         [2]     [7]\n",
    "         / \\     / \\\n",
    "       [1] [3] [6] [9]\n",
    "\n",
    "  Output = [4,7,2,9,6,3,1]\n",
    "  \n",
    "             [4]\n",
    "            /   \\\n",
    "         [7]     [2]\n",
    "         / \\     / \\\n",
    "       [9] [6] [3] [1]\n",
    "```\n",
    "TRIVIA:\n",
    "\n",
    "  - This problem was inspired by [this original tweet](https://twitter.com/mxcl/status/608682016205344768)\n",
    "    by Max Howell:\n",
    "```    \n",
    "  Google: 90% of our engineers use the software you wrote (Homebrew),\n",
    "  but you can’t invert a binary tree on a whiteboard so f*** off.\n",
    "```\n",
    "\n",
    "REFERNECE:\n",
    "  - https://leetcode.com/problems/invert-binary-tree/ (Easy)\n",
    "\n",
    "\n",
    "SHARED LIBRARY\n",
    "  - [trees_and_graphcs/shared_utils.py](../../python3/trees_and_graphs/shared_utils.py)"
   ]
  },
  {
   "cell_type": "code",
   "execution_count": 1,
   "id": "c50cbe4f",
   "metadata": {},
   "outputs": [
    {
     "data": {
      "text/plain": [
       "['../../python3/trees_and_graphs']"
      ]
     },
     "execution_count": 1,
     "metadata": {},
     "output_type": "execute_result"
    }
   ],
   "source": [
    "# Add python3/trees_and_graphs to the system path\n",
    "import sys\n",
    "\n",
    "paths = ['../../python3/trees_and_graphs']\n",
    "\n",
    "for path in paths:\n",
    "    if path not in sys.path:\n",
    "        sys.path.append(path)\n",
    "\n",
    "sys.path[-1:]"
   ]
  },
  {
   "cell_type": "code",
   "execution_count": null,
   "id": "1067dc66-5e21-488d-8f62-efa339965cbe",
   "metadata": {},
   "outputs": [
    {
     "name": "stdout",
     "output_type": "stream",
     "text": [
      "# Input: root = [4, 2, 7, 1, 3, 6, 9]\n",
      "  Output v1 = [4, 7, 2, 9, 6, 3, 1]\n",
      "  Output v2 = [4, 7, 2, 9, 6, 3, 1]\n",
      "  Output v3 = [4, 7, 2, 9, 6, 3, 1]\n"
     ]
    }
   ],
   "source": [
    "from typing import List\n",
    "from shared_utils import TreeNode, make_tree, tree_to_list\n",
    "\n",
    "\n",
    "class Solution:\n",
    "    def invertTree_v1(self, root: TreeNode) -> TreeNode:\n",
    "        \"\"\"DFS with the recurssion method\"\"\"      \n",
    "\n",
    "        def dfs(node):\n",
    "            \"\"\"This helper function traverse the depth first\"\"\"\n",
    "            if not node:\n",
    "                return   \n",
    "            # Swap         \n",
    "            node.left, node.right = node.right, node.left\n",
    "            # Recursion\n",
    "            dfs(node.left)\n",
    "            dfs(node.right) \n",
    "\n",
    "        dfs(root)\n",
    "        return root\n",
    "        \n",
    "    def invertTree_v2(self, root: TreeNode) -> TreeNode:\n",
    "        \"\"\"BFS two queues --- current layer and the next layer\"\"\"\n",
    "\n",
    "        queue = [root]\n",
    "        while queue:\n",
    "            next_queue = []\n",
    "            for node in queue:\n",
    "                if node:\n",
    "                    node.left, node.right = node.right, node.left\n",
    "                    next_queue.append(node.left) \n",
    "                    next_queue.append(node.right)\n",
    "            queue = next_queue\n",
    "        return root\n",
    "\n",
    "    def invertTree_v3(self, root: TreeNode) -> TreeNode:\n",
    "        \"\"\"BFS with one queue\"\"\"\n",
    "\n",
    "        queue = [root]\n",
    "        while queue:\n",
    "            node = queue.pop(0)\n",
    "            if node:\n",
    "                node.left, node.right = node.right, node.left\n",
    "                queue.append(node.left)\n",
    "                queue.append(node.right)\n",
    "        return root\n",
    "\n",
    "\n",
    "def main():\n",
    "    \"\"\"Main function\"\"\"\n",
    "\n",
    "    # Test data\n",
    "    test_data = [\n",
    "        [4, 2, 7, 1, 3, 6, 9],\n",
    "    ]\n",
    "\n",
    "    ob1 = Solution()\n",
    "    for vals in test_data:\n",
    "        print(f\"# Input: root = {vals}\")\n",
    "        print(f\"  Output v1 = {ob1.invertTree_v1(make_tree(vals))}\")\n",
    "        print(f\"  Output v2 = {ob1.invertTree_v2(make_tree(vals))}\")\n",
    "        print(f\"  Output v3 = {ob1.invertTree_v3(make_tree(vals))}\")\n",
    "\n",
    "if __name__ == \"__main__\":\n",
    "    main()\n"
   ]
  }
 ],
 "metadata": {
  "kernelspec": {
   "display_name": "Python-Algorithms",
   "language": "python",
   "name": "python3"
  },
  "language_info": {
   "codemirror_mode": {
    "name": "ipython",
    "version": 3
   },
   "file_extension": ".py",
   "mimetype": "text/x-python",
   "name": "python",
   "nbconvert_exporter": "python",
   "pygments_lexer": "ipython3",
   "version": "3.12.10"
  }
 },
 "nbformat": 4,
 "nbformat_minor": 5
}
