{
 "cells": [
  {
   "cell_type": "markdown",
   "id": "e7fa39a9-c404-4346-ad8b-7ee30f9476e1",
   "metadata": {},
   "source": [
    "# Top K frequent numbers\n",
    "\n",
    "Given an array of integers, find the top K most frequent numbers.\n",
    "\n",
    "```\n",
    "Example 1: \n",
    "Input: nums = [1, 3, 5, 12, 11, 12, 11], k = 2\n",
    "Output = [11, 12]\n",
    "```"
   ]
  },
  {
   "cell_type": "code",
   "execution_count": 7,
   "id": "9ae43c45-bdb4-4c69-bd9e-c25e605a4203",
   "metadata": {},
   "outputs": [
    {
     "name": "stdout",
     "output_type": "stream",
     "text": [
      "Input: nums = [1, 3, 5, 12, 11, 12, 11], k = 2\n",
      "  Output = [11, 12]\n",
      "\n",
      "Input: nums = [5, 12, 11, 3, 11], k = 2\n",
      "  Output = [12, 11]\n",
      "\n"
     ]
    }
   ],
   "source": [
    "import heapq\n",
    "from collections import defaultdict, Counter\n",
    "\n",
    "def find_k_frequent_numbers(nums, k):\n",
    "    \"\"\"Use a Min Heap to find the top K.\n",
    "    \n",
    "    A Max Heap won't help for this case.\n",
    "    The node of the heap has (frequency, value)\n",
    "    \n",
    "    Time Complexity: O(N + N * log(k)) = O(N * log(k))\n",
    "    \"\"\"\n",
    "    \n",
    "    # d = defaultdict(int)\n",
    "    # for x in nums:\n",
    "    #     d[x] += 1\n",
    "    d = Counter(nums)\n",
    "\n",
    "    # Use a \"min\" heap to track the most frequent K\n",
    "    heap = []\n",
    "    for x, freq in d.items():\n",
    "        if len(heap) < k:\n",
    "            heapq.heappush(heap, (freq, x))\n",
    "        elif freq > heap[0][0]:\n",
    "            heapq.heapreplace(heap, (freq, x))  # pop and push\n",
    "\n",
    "    return [h[1] for h in heap]\n",
    "\n",
    "\n",
    "def main():\n",
    "    test_data = [\n",
    "        [[1, 3, 5, 12, 11, 12, 11], 2],\n",
    "        [[5, 12, 11, 3, 11], 2],\n",
    "    ]\n",
    "    for nums, k in test_data:\n",
    "        print(f\"Input: nums = {nums}, k = {k}\")\n",
    "        print(f\"  Output = {find_k_frequent_numbers(nums, k)}\")\n",
    "        print()\n",
    "\n",
    "\n",
    "main()"
   ]
  }
 ],
 "metadata": {
  "kernelspec": {
   "display_name": "Python 3 (ipykernel)",
   "language": "python",
   "name": "python3"
  },
  "language_info": {
   "codemirror_mode": {
    "name": "ipython",
    "version": 3
   },
   "file_extension": ".py",
   "mimetype": "text/x-python",
   "name": "python",
   "nbconvert_exporter": "python",
   "pygments_lexer": "ipython3",
   "version": "3.10.6"
  }
 },
 "nbformat": 4,
 "nbformat_minor": 5
}
