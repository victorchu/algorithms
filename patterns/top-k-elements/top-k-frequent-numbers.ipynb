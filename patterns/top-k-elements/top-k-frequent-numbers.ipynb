{
 "cells": [
  {
   "cell_type": "markdown",
   "id": "e7fa39a9-c404-4346-ad8b-7ee30f9476e1",
   "metadata": {},
   "source": [
    "# Top K frequent numbers\n",
    "\n",
    "Given an array of integers, find the top K most frequent numbers.\n",
    "\n",
    "```\n",
    "Example 1: \n",
    "Input: nums = [1, 3, 5, 12, 11, 12, 11], k = 2\n",
    "Output = [11, 12]\n",
    "```"
   ]
  },
  {
   "cell_type": "code",
   "execution_count": null,
   "id": "9ae43c45-bdb4-4c69-bd9e-c25e605a4203",
   "metadata": {},
   "outputs": [
    {
     "name": "stdout",
     "output_type": "stream",
     "text": [
      "Input: nums = [1, 3, 5, 12, 11, 12, 11, 12], k = 2\n",
      "  Output = ['12 (3)', '11 (2)']\n",
      "\n",
      "Input: nums = [5, 12, 11, 3, 11, 3, 3], k = 2\n",
      "  Output = ['3 (3)', '11 (2)']\n",
      "\n"
     ]
    }
   ],
   "source": [
    "import heapq\n",
    "from collections import defaultdict, Counter\n",
    "\n",
    "\n",
    "class Solution:\n",
    "    def find_k_frequent_numbers(self, nums, k):\n",
    "        \"\"\"Use a Min Heap to find the top K.\n",
    "        \n",
    "        A Max Heap won't help for this case.\n",
    "        The node of the heap has (frequency, value)\n",
    "        \n",
    "        Time Complexity: O(N + N * log(k)) = O(N * log(k))\n",
    "        Space Complexity: O(N + k) = O(N)\n",
    "        \"\"\"\n",
    "        \n",
    "        # Use a dictionary or a counter to store the frequencies\n",
    "        # d = defaultdict(int)\n",
    "        # for x in nums:\n",
    "        #     d[x] += 1\n",
    "        d = Counter(nums)\n",
    "\n",
    "        # Use a \"min\" heap to track the most frequent K\n",
    "        heap = []\n",
    "        for x, freq in d.items():\n",
    "            # Always add to the heap if it is not full.\n",
    "            # Keep the smallest on the top.\n",
    "            if len(heap) < k:\n",
    "                heapq.heappush(heap, (freq, x))\n",
    "\n",
    "            # If the new frequency is larger than the smaller one,\n",
    "            # we need to replace it.\n",
    "            elif freq > heap[0][0]:\n",
    "                ## Method 1: pop and push\n",
    "                # heapq.heappop(heap)\n",
    "                # heapq.heappush((freq, x))\n",
    "\n",
    "                ## Method 2: push & pop\n",
    "                # heapq.heappushpop(heap, (freq, x))\n",
    "\n",
    "                ## Method 3: pop & push\n",
    "                heapq.heapreplace(heap, (freq, x))\n",
    "\n",
    "        return [f\"{x} ({freq})\" for freq,x in reversed(heap)]\n",
    "\n",
    "\n",
    "def main():\n",
    "    test_data = [\n",
    "        [[1, 3, 5, 12, 11, 12, 11, 12], 2],\n",
    "        [[5, 12, 11, 3, 11, 3, 3], 2],\n",
    "    ]\n",
    "    ob1 = Solution()\n",
    "    for nums, k in test_data:\n",
    "        print(f\"Input: nums = {nums}, k = {k}\")\n",
    "        print(f\"  Output = {ob1.find_k_frequent_numbers(nums, k)}\")\n",
    "        print()\n",
    "\n",
    "\n",
    "main()"
   ]
  }
 ],
 "metadata": {
  "kernelspec": {
   "display_name": "Python-Algorithms",
   "language": "python",
   "name": "python3"
  },
  "language_info": {
   "codemirror_mode": {
    "name": "ipython",
    "version": 3
   },
   "file_extension": ".py",
   "mimetype": "text/x-python",
   "name": "python",
   "nbconvert_exporter": "python",
   "pygments_lexer": "ipython3",
   "version": "3.12.10"
  }
 },
 "nbformat": 4,
 "nbformat_minor": 5
}
