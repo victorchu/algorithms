{
 "cells": [
  {
   "cell_type": "markdown",
   "id": "99d94ea7-6988-4474-a884-40fad7157da6",
   "metadata": {},
   "source": [
    "# Merge k sorted lists\n",
    "\n",
    "Merge K sorted lists.\n",
    "```\n",
    "Example 1:\n",
    "Input = [[2, 6, 8], [3, 6, 7], [1, 3, 4]]\n",
    "Output = [1, 2, 3, 3, 4, 6, 6, 7, 8]\n",
    "```\n",
    "\n",
    "\n",
    "**Note:**\n",
    "\n",
    "This pattern helps us solve problems that involve a list of sorted arrays.\n",
    "\n",
    "Whenever we are given ‘K’ sorted arrays, we can use a **Heap** to efficiently perform a sorted traversal of all the elements of all arrays. \n",
    "We can push the smallest (first) element of each sorted array in a Min Heap to get the overall minimum. \n",
    "While inserting elements to the Min Heap we keep track of which array the element came from.\n",
    "We can, then, remove the top element from the heap to get the smallest element\n",
    "and push the next element from the same array, to which this smallest element belonged,\n",
    "to the heap. We can repeat this process to make a sorted traversal of all elements.\n",
    "\n"
   ]
  },
  {
   "cell_type": "code",
   "execution_count": 2,
   "id": "2ca16bad-4e17-4de9-9800-750eb42a0a34",
   "metadata": {},
   "outputs": [
    {
     "name": "stdout",
     "output_type": "stream",
     "text": [
      "# Input = [[2, 6, 8], [3, 6, 7], [1, 3, 4]]\n",
      "  Output = [1, 2, 3, 3, 4, 6, 6, 7, 8]\n",
      "# Input = [[5, 8, 9], [1, 7]]\n",
      "  Output = [1, 5, 7, 8, 9]\n"
     ]
    }
   ],
   "source": [
    "import heapq\n",
    "\n",
    "class Solution:\n",
    "    def merge_lists(self, lists):\n",
    "        \"\"\"Use a min heap.\n",
    "        \n",
    "        A node of the head has [value, current index, list].\n",
    "        The heap is sorted by the first element of the node.\n",
    "        \"\"\"\n",
    "        heap = []\n",
    "        results = []\n",
    "\n",
    "        # Initialize\n",
    "        for lst in lists:\n",
    "            heapq.heappush(heap, [lst[0], 0, lst])  # value, index, list\n",
    "\n",
    "        while heap:\n",
    "            x, i, lst = heapq.heappop(heap)\n",
    "            results.append(x)\n",
    "            i += 1\n",
    "            if i < len(lst):\n",
    "                heapq.heappush(heap, [lst[i], i, lst])\n",
    "        return results\n",
    "\n",
    "\n",
    "def main():\n",
    "    test_data = [\n",
    "        [[2, 6, 8], [3, 6, 7], [1, 3, 4]],\n",
    "        [[5, 8, 9], [1, 7]],\n",
    "    ]\n",
    "\n",
    "    ob1 = Solution()\n",
    "    for lists in test_data:\n",
    "        print(f\"# Input = {lists}\")\n",
    "        print(f\"  Output = {ob1.merge_lists(lists)}\")        \n",
    "\n",
    "\n",
    "main()\n"
   ]
  }
 ],
 "metadata": {
  "kernelspec": {
   "display_name": "Python 3 (ipykernel)",
   "language": "python",
   "name": "python3"
  },
  "language_info": {
   "codemirror_mode": {
    "name": "ipython",
    "version": 3
   },
   "file_extension": ".py",
   "mimetype": "text/x-python",
   "name": "python",
   "nbconvert_exporter": "python",
   "pygments_lexer": "ipython3",
   "version": "3.10.6"
  }
 },
 "nbformat": 4,
 "nbformat_minor": 5
}
